{
 "cells": [
  {
   "cell_type": "markdown",
   "metadata": {},
   "source": [
    "**Python** is an object oriented, practical (but somewhat slow) general purpose programming language.\n",
    "\n",
    "## Versions\n",
    "\n",
    "Sadly a large percentage of people are stuck with python 2.7\n",
    "\n",
    "If possible people should use python3 \n",
    "\n",
    "3.7 is the latest version but doesn't add much over 3.6 other then some more async stuff and shortcuts for simple data classes with auto generated str/eq/compare)  \n",
    "\n",
    "3.6 adds interpolated strings, better optional static typing support, async stuff"
   ]
  },
  {
   "cell_type": "code",
   "execution_count": 3,
   "metadata": {},
   "outputs": [
    {
     "data": {
      "text/plain": [
       "'interpolated strings. Yay!!!!!!!!!!!!!!!!!!!!!!!!!!!!!!!!!!!!!!!!!!!!!!!!!!!!!!!!!!!!!!!!!!!!!!!!!!!!!!!!!!!!!!!!!!!!!!!!!!!!'"
      ]
     },
     "execution_count": 3,
     "metadata": {},
     "output_type": "execute_result"
    }
   ],
   "source": [
    " f\"interpolated strings. Yay{'!'*100}\""
   ]
  },
  {
   "cell_type": "code",
   "execution_count": 20,
   "metadata": {},
   "outputs": [
    {
     "data": {
      "text/plain": [
       "'Python 3.6.6'"
      ]
     },
     "execution_count": 20,
     "metadata": {},
     "output_type": "execute_result"
    }
   ],
   "source": [
    "import sys\n",
    "import subprocess\n",
    "subprocess.check_output([sys.executable, '--version'], universal_newlines=True).strip()"
   ]
  },
  {
   "cell_type": "markdown",
   "metadata": {},
   "source": [
    "python is an object oriented language, in that everything is an object. \n",
    "\n",
    "An object is basically a dictionary or a chain of dictionaries and lookup methods \n",
    "\n",
    "But python does not have to be structured in an object oriented way, that is unlike java/c# or Smalltalk main is not some special method of an object. "
   ]
  },
  {
   "cell_type": "markdown",
   "metadata": {},
   "source": [
    "# For(each) loops and list comprehensions"
   ]
  },
  {
   "cell_type": "code",
   "execution_count": 108,
   "metadata": {},
   "outputs": [
    {
     "name": "stdout",
     "output_type": "stream",
     "text": [
      "159(add a newline)\n",
      "a - c - e - g - i - (add a newline)\n",
      "13579(add a newline)\n",
      "0: Alice\n",
      "1: Bob\n",
      "2: Charlie\n",
      "3: Duke\n",
      "4: Ellington\n",
      "0: Alice\n",
      "1: Bob\n",
      "2: Charlie\n",
      "3: Duke\n",
      "4: Ellington\n",
      "[-6.9, -0.9, 5.1]\n"
     ]
    }
   ],
   "source": [
    "for i in [1,5,9]:\n",
    "    sys.stdout.write(str(i))\n",
    "print(\"(add a newline)\")\n",
    "\n",
    "for c in \"ACEGI\":\n",
    "    sys.stdout.write(c.lower() + \" - \")\n",
    "print(\"(add a newline)\")\n",
    "\n",
    "# python doesn't have a c style for loop :-) so to loop over numbers you specify a range\n",
    "for i in range(10):\n",
    "    if i % 2 == 1:\n",
    "        sys.stdout.write(str(i))\n",
    "print(\"(add a newline)\")\n",
    "\n",
    "#if you want to iterate with an index DONT USE - range(len(lst))\n",
    "users=[\"Alice\", \"Bob\", \"Charlie\", \"Duke\", \"Ellington\"]\n",
    "for i in range(len(users)):\n",
    "    print(f\"{i}: {users[i]}\")\n",
    "#instead DO THIS\n",
    "for i, user in enumerate([\"Alice\", \"Bob\", \"Charlie\", \"Duke\", \"Ellington\"]):\n",
    "    print(f\"{i}: {user}\")\n",
    "\n",
    "start = -10\n",
    "stop = 10\n",
    "step = 3\n",
    "# range take 1 (stop) or 2 (start, stop) or 3 (start, stop, end) arguments, poisitional arguments\n",
    "\n",
    "# a List comprehension is a new list made inline as a statement without having to create a new array and append to it\n",
    "print([x+0.1 \n",
    "       for x in range(start, stop, step) \n",
    "       if x % 2 == 1])\n"
   ]
  },
  {
   "cell_type": "markdown",
   "metadata": {},
   "source": [
    "A lot python code is procedural code using simple freestanding functions and basic types. \n",
    "\n",
    "# Basic Types"
   ]
  },
  {
   "cell_type": "code",
   "execution_count": 44,
   "metadata": {},
   "outputs": [
    {
     "data": {
      "text/plain": [
       "[(bool, True),\n",
       " (bool, False),\n",
       " (int, 0),\n",
       " (float, 1.0),\n",
       " (float, inf),\n",
       " (float, nan),\n",
       " (complex, (2+3j)),\n",
       " (str, 'Unicode encoded string'),\n",
       " (bytes, b'binary byte string'),\n",
       " (list, [1, 2, 3]),\n",
       " (tuple, (1, 2, 3)),\n",
       " (range, range(0, 3)),\n",
       " (set, {1, 2, 3}),\n",
       " (dict, {'a': 1, 'b': 5, 'c': 3})]"
      ]
     },
     "execution_count": 44,
     "metadata": {},
     "output_type": "execute_result"
    }
   ],
   "source": [
    "import math\n",
    "#type is a fairly complicated class (its the default metaclass or the default class of class objects, and can be used to dynamically create classes)\n",
    "#but for our purpose here it just acts like a function returning an instances class\n",
    "[(type(obj), obj) for obj in [True, False, 0, 1.0, math.inf, math.nan, 2+3j,\n",
    "                             \"Unicode encoded string\", b\"binary byte string\",\n",
    "                             [1,2,3],(1,2,3),range(3), set([1,2,3]), dict(a=1,b=5,c=3)]]"
   ]
  },
  {
   "cell_type": "markdown",
   "metadata": {},
   "source": [
    "Python objects have truthiness. \n",
    "\n",
    "Any 0, empty collection, None (null), empty collection, or object with `def __bool__(self):` method returning `False` is `False`, everything else is `True`.\n",
    "Unlike javascripts weird truth tables, python's truthiness is very predictable and usually does what you want (except maybe with `0` which is occasionaly a valid value but is still falsey)\n",
    "\n",
    "In every `while`/`if` check a truthy object is treated as True and a falsey object is treated as `False`. You can check whether an object is truthy or falsey but feeding them to the `bool(obj)` constructor.\n"
   ]
  },
  {
   "cell_type": "code",
   "execution_count": 57,
   "metadata": {},
   "outputs": [
    {
     "data": {
      "text/plain": [
       "[(0, False),\n",
       " (1, True),\n",
       " (-1, True),\n",
       " ('', False),\n",
       " (' ', True),\n",
       " ('str', True),\n",
       " (b'', False),\n",
       " (b'0', True),\n",
       " ([], False),\n",
       " ([None], True),\n",
       " ([''], True),\n",
       " (set(), False),\n",
       " ({1}, True),\n",
       " ((), False),\n",
       " ((1, 2), True),\n",
       " (range(0, 0), False),\n",
       " (range(0, 5), True),\n",
       " ({}, False),\n",
       " ({'a': 1}, True),\n",
       " (datetime.timedelta(0), False),\n",
       " (datetime.timedelta(0, 600), True)]"
      ]
     },
     "execution_count": 57,
     "metadata": {},
     "output_type": "execute_result"
    }
   ],
   "source": [
    "import datetime\n",
    "[(x, bool(x)) for x in [0,1,-1,\n",
    "                       \"\", \" \", \"str\",b\"\", b\"0\",\n",
    "                       [],[None], [\"\"], set([]), set([1]),tuple([]),(1,2),\n",
    "                        range(0), range(5), dict(), {'a':1},\n",
    "                      datetime.timedelta(0), datetime.timedelta(minutes=10)]]"
   ]
  },
  {
   "cell_type": "code",
   "execution_count": 16,
   "metadata": {},
   "outputs": [
    {
     "name": "stdout",
     "output_type": "stream",
     "text": [
      "b\"binary strings(type bytes) are basically like const char *,\\n      there is some support for ascii literals prefixed with a b'\\n      but they can contain random binary data as well as strings.'\\n      Unless there is a need to compare them to other binary strings usually avoid them\"\n",
      "type(b\"byte string\"):<class 'bytes'>\n",
      "bytearray(b'bytes are immutable, bytearray is when you need mutability!')\n",
      "<memory at 0x0000018AF1BA47C8>\n",
      "default unicode encoded strings are much easier to work with in python3, usually you want to convert one type to the other\n"
     ]
    },
    {
     "data": {
      "text/plain": [
       "'strings can be in single quotesor double quotes raw form to allow unescaped backslashes (unless its the last charecter) c:\\\\User\\\\name\\\\path\\\\\\\\'"
      ]
     },
     "execution_count": 16,
     "metadata": {},
     "output_type": "execute_result"
    }
   ],
   "source": [
    "import textwrap\n",
    "print(b'''binary strings(type bytes) are basically like const char *,\n",
    "      there is some support for ascii literals prefixed with a b'\n",
    "      but they can contain random binary data as well as strings.'\n",
    "      Unless there is a need to compare them to other binary strings usually avoid them''')\n",
    "print(f'type(b\"byte string\"):{type(b\"byte string\")}')\n",
    "arr=bytearray(b'bytes are immutable, bytearray is when you need mutability.')\n",
    "arr[-1] = ord('!')\n",
    "print(arr)\n",
    "print(memoryview(b'memoryview is also useful when passing binary data from c or just to avoid copying'))\n",
    "print('default unicode encoded strings are much easier to work with in python3, usually you want to convert one type to the other')\n",
    "\n",
    "('strings can be in single quotes with \"unescaped double quotes\"' + \"or double quotes with 'unescaped single quotes' \" +\n",
    "r'raw form to allow unescaped backslashes (unless its the last charecter) c:\\User\\name\\path\\\\' + textwrap.dedent(r\"\"\"\\\n",
    "    multiline string literals\n",
    "    optionally dedent being used to align it without extra spaces at the start of each line\n",
    "    due to pythons whitespace rules.\n",
    "    multiline string literals\n",
    "    ''')"
   ]
  },
  {
   "cell_type": "code",
   "execution_count": 111,
   "metadata": {},
   "outputs": [
    {
     "name": "stdout",
     "output_type": "stream",
     "text": [
      "Hello World\n"
     ]
    }
   ],
   "source": [
    "def main(argv):\n",
    "    \"\"\"main is totally arbitrary function name \n",
    "    but is traditional usually you parse ARGS here and decide what to run.\n",
    "    BTW this is a docstring, its how you document a python class/function/module.\n",
    "    DocStrings are available at runtime by running `help(obj)`\n",
    "    \"\"\"\n",
    "    print(\" \".join(argv))\n",
    "\n",
    "# __name__ is the name of the module or '__main__' inside the python file you're running\n",
    "# This if statement is incredibly common because it lets you run main only when the file is run\n",
    "# not when its imported and used as a library\n",
    "# You can even import and call a function you call main from another script, although I wouldn't recommend it\n",
    "if __name__ == '__main__':\n",
    "#     main(sys.argv)\n",
    "    main([\"Hello\", \"World\"])\n",
    "    "
   ]
  },
  {
   "cell_type": "code",
   "execution_count": 101,
   "metadata": {},
   "outputs": [
    {
     "name": "stdout",
     "output_type": "stream",
     "text": [
      "a: 1 b:2 c:3 d:4\n",
      "args: (5, 6) kwargs:{'q': 9, 'bb': 22}\n",
      "as expected keyword only argument can't be supplied by position\n",
      "arg: ARG\n",
      "scratch the dog\n",
      "scratch the cat\n",
      "['yo ho ho', 'barrel of moneys']\n",
      "bad 2nd\n",
      "['yo ho ho', 'barrel of moneys', 'yo ho ho', 'barrel of moneys']\n",
      "bad 3rd\n",
      "['yo ho ho', 'barrel of moneys', 'yo ho ho', 'barrel of moneys', 'yo ho ho', 'barrel of moneys']\n",
      "['yo ho ho', 'barrel of moneys']\n",
      "good 2nd\n",
      "['yo ho ho', 'barrel of moneys']\n",
      "good 3rd\n",
      "['yo ho ho', 'barrel of moneys']\n"
     ]
    }
   ],
   "source": [
    "# Python has regular args which can be \n",
    "# accessed by keyword or position\n",
    "# *args gathers up any extra positional args/supports variable # of args\n",
    "# **kwargs gathers up any extra positional args/supports variable # of args\n",
    "# Arguments after * (or *args) are keyword only args\n",
    "def a(a, b, c, *args, d, **kwargs):\n",
    "    print(f\"a: {a} b:{b} c:{c} d:{d}\")\n",
    "    print(f\"args: {args} kwargs:{kwargs}\")\n",
    "    \n",
    "def b(*, arg):\n",
    "    print(f\"arg: {arg}\")\n",
    "    \n",
    "def scratch_pet_belly(pet=\"dog\"):\n",
    "    print(f\"scratch the {pet}\")\n",
    "\n",
    "a(1, 2, 3, 5, 6, d=4, q=9,bb=22)\n",
    "try:\n",
    "    b('ARG')\n",
    "except TypeError:\n",
    "    print(f\"as expected keyword only argument can't be supplied by position\")\n",
    "\n",
    "b(arg='ARG')\n",
    "scratch_pet_belly()\n",
    "scratch_pet_belly(\"cat\")\n",
    "\n",
    "def get_intresting_phrases():\n",
    "    \"\"\"Pretend it's using rest apis\"\"\"\n",
    "    return [\"yo ho ho\", \"barrel of moneys\"]\n",
    "def bad_print_intresting_phrases(extra=[]):\n",
    "    extra += get_intresting_phrases()\n",
    "    return extra\n",
    "\n",
    "def good_print_intresting_phrases(extra=None):\n",
    "    if not extra:\n",
    "        extra = []\n",
    "    extra += get_intresting_phrases()\n",
    "    return extra\n",
    "        \n",
    "print(bad_print_intresting_phrases())\n",
    "print(\"bad 2nd\")\n",
    "print(bad_print_intresting_phrases())\n",
    "print(\"bad 3rd\")\n",
    "print(bad_print_intresting_phrases())\n",
    "\n",
    "\n",
    "print(good_print_intresting_phrases())\n",
    "print(\"good 2nd\")\n",
    "print(good_print_intresting_phrases())\n",
    "print(\"good 3rd\")\n",
    "print(good_print_intresting_phrases())"
   ]
  },
  {
   "cell_type": "code",
   "execution_count": 103,
   "metadata": {},
   "outputs": [
    {
     "name": "stdout",
     "output_type": "stream",
     "text": [
      "yo ho ho\n",
      "42\n"
     ]
    }
   ],
   "source": [
    "# Higher order functions\n",
    "def call_f1(f1):\n",
    "    f1()\n",
    "    \n",
    "def make_print_f2(f2):\n",
    "    def p():\n",
    "        print(f2())\n",
    "    return p\n",
    "call_f1(lambda:print(\"yo ho ho\"))\n",
    "call_f1(make_print_f2(lambda : 42))"
   ]
  },
  {
   "cell_type": "code",
   "execution_count": 105,
   "metadata": {},
   "outputs": [
    {
     "name": "stdout",
     "output_type": "stream",
     "text": [
      "[-0.1, 0.9, 1.9, 2.9, 3.9, 4.9, 5.9, 6.9, 7.9, 8.9]\n"
     ]
    }
   ],
   "source": [
    "#Map vs Filter vs list comprehensions\n",
    "print(list(map(lambda x:x-0.1, range(10))))\n"
   ]
  },
  {
   "cell_type": "code",
   "execution_count": 133,
   "metadata": {},
   "outputs": [
    {
     "name": "stdout",
     "output_type": "stream",
     "text": [
      "dog\n",
      "======================\n",
      "calling cats with args: () and kwargs: {}\n",
      "dog\n",
      "======================\n",
      "calling cats with args: () and kwargs: {}\n",
      "dog\n",
      "======================\n",
      "calling cats with args: () and kwargs: {}\n",
      "dog\n"
     ]
    }
   ],
   "source": [
    "#decorators\n",
    "\n",
    "def log_decorator(f):\n",
    "    def wrapped_f(*args, **kwargs):\n",
    "        print(f'calling {f.__name__} with args: {args} and kwargs: {kwargs}')\n",
    "        return f(*args, **kwargs)\n",
    "    return wrapped_f\n",
    "\n",
    "def cats():\n",
    "    print('dog')\n",
    "\n",
    "cats() \n",
    "print('='*22)\n",
    "log_decorator(cats)()\n",
    "print('='*22)\n",
    "cats = log_decorator(cats)\n",
    "cats()\n",
    "print('='*22)\n",
    "\n",
    "#equivalent to cats = log_decorator(cats)\n",
    "@log_decorator\n",
    "def cats():\n",
    "    print('dog')\n",
    "cats()"
   ]
  },
  {
   "cell_type": "code",
   "execution_count": 131,
   "metadata": {},
   "outputs": [
    {
     "name": "stdout",
     "output_type": "stream",
     "text": [
      "calling cats_like_to_devide_by_zero\n",
      "dog\n",
      "catching exception type <class 'ZeroDivisionError'> in wrapped function cats_like_to_devide_by_zero\n",
      "calling cats_like_to_devide_by_zero\n",
      "dog\n",
      "catching exception type <class 'ZeroDivisionError'> in wrapped function cats_like_to_devide_by_zero\n"
     ]
    }
   ],
   "source": [
    "# A Decorator with 1 or more arguments is similar but with another layer\n",
    "def make_decorator_with_args(catch_exception_type):\n",
    "    def decorator(f):\n",
    "        def wrapped_f(*args, **kwargs):\n",
    "            print(f'calling {f.__name__}')\n",
    "            try:\n",
    "                return f(*args, **kwargs)\n",
    "            except catch_exception_type:\n",
    "                print(f'catching exception type {catch_exception_type} in wrapped function {f.__name__}')\n",
    "        return wrapped_f\n",
    "    return decorator\n",
    "\n",
    "def cats_like_to_devide_by_zero():\n",
    "    print('dog')\n",
    "    1/0\n",
    "\n",
    "cats_like_to_devide_by_zero = make_decorator_with_args(ZeroDivisionError)(cats_like_to_devide_by_zero)\n",
    "cats_like_to_devide_by_zero()\n",
    "\n",
    "# equivalent to \n",
    "# `cats_like_to_devide_by_zero = make_decorator_with_args(ZeroDivisionError)(cats_like_to_devide_by_zero)`\n",
    "\n",
    "@make_decorator_with_args(ZeroDivisionError)\n",
    "def cats_like_to_devide_by_zero():\n",
    "    print('dog')\n",
    "    1/0\n",
    "cats_like_to_devide_by_zero()"
   ]
  },
  {
   "cell_type": "code",
   "execution_count": 146,
   "metadata": {},
   "outputs": [
    {
     "name": "stdout",
     "output_type": "stream",
     "text": [
      "thing.thing is thing\n",
      "thing != thingy\n",
      "calling a with args: (<__main__.WithDecoratedMethodsClass object at 0x000001AB486A1358>,) and kwargs: {}\n",
      "self\n",
      "calling method b in class <class '__main__.WithDecoratedMethodsClass'> with args: () and kwargs: {}\n",
      "b\n",
      "calling staticmethod a\n",
      "calling classmethod b of cls: <class '__main__.NonInstanceMethodsClass'>\n"
     ]
    }
   ],
   "source": [
    "class A:\n",
    "    '''Most basic class'''\n",
    "    pass\n",
    "\n",
    "class Thing:\n",
    "    def __init__(self, thing):\n",
    "        '''__init__ is the constructor\n",
    "        pythons equivalent of this is passed explicitly, \n",
    "        its always named self but thats a convention not part of the language'''\n",
    "        # set thing field\n",
    "        self.thing = thing\n",
    "    def __eq__(self, other):\n",
    "        '''There are a number of other \n",
    "        double leading/trailing underscore methods in the language for special things\n",
    "        __eq__ implements == operator'''\n",
    "        return type(other) == type(self) and self.thing == other.thing\n",
    "    \n",
    "thing = Thing('thing')\n",
    "thingy = Thing('thingy') \n",
    "print(f'thing.thing is {thing.thing}')\n",
    "print(f'thing {\"==\" if thing == thingy else \"!=\"} thingy')\n",
    "\n",
    "def class_log_decorator(f):\n",
    "    def wrapped_f(self, *args, **kwargs):\n",
    "        self_type = type(self)\n",
    "        print(f'calling method {f.__name__} in class {self_type} with args: {args} and kwargs: {kwargs}')\n",
    "        return f(self, *args, **kwargs)\n",
    "    return wrapped_f\n",
    "\n",
    "class WithDecoratedMethodsClass:\n",
    "    @log_decorator\n",
    "    def a(self):\n",
    "        print('self')\n",
    "    @class_log_decorator\n",
    "    def b(self):\n",
    "        print('b')\n",
    "class NonInstanceMethodsClass:\n",
    "    @staticmethod\n",
    "    def a():\n",
    "        print('calling staticmethod a')\n",
    "    @classmethod\n",
    "    def b(cls):\n",
    "        print(f'calling classmethod b of cls: {cls}')\n",
    "\n",
    "wdm = WithDecoratedMethodsClass()\n",
    "wdm.a()\n",
    "wdm.b()\n",
    "nim = NonInstanceMethodsClass()\n",
    "nim.a()\n",
    "nim.b()"
   ]
  },
  {
   "cell_type": "code",
   "execution_count": 150,
   "metadata": {},
   "outputs": [
    {
     "name": "stdout",
     "output_type": "stream",
     "text": [
      "In C.__init__\n",
      "args: ('q', 5), kwargs:{}\n"
     ]
    },
    {
     "data": {
      "text/plain": [
       "<__main__.C at 0x1ab486ecd68>"
      ]
     },
     "execution_count": 150,
     "metadata": {},
     "output_type": "execute_result"
    }
   ],
   "source": [
    "class B(A):\n",
    "    '''Inherits from A'''\n",
    "    pass\n",
    "class BException(Exception):\n",
    "    '''Basic custom exception, just `raise BException(ctx)`'''\n",
    "    pass\n",
    "class A2:\n",
    "    def __init__(self, *args, **kwargs):\n",
    "        print(f\"args: {args}, kwargs:{kwargs}\")\n",
    "class C(A, A2):\n",
    "    '''python can do multiple inheritence but please dont'''\n",
    "    def __init__(self, *args, **kwargs):\n",
    "        print(\"In C.__init__\")\n",
    "        super().__init__(*args, **kwargs)\n",
    "C('q', 5)        "
   ]
  },
  {
   "cell_type": "code",
   "execution_count": 135,
   "metadata": {},
   "outputs": [
    {
     "name": "stdout",
     "output_type": "stream",
     "text": [
      "['__class__', '__delattr__', '__delete__', '__dir__', '__doc__', '__eq__', '__format__', '__ge__', '__get__', '__getattribute__', '__gt__', '__hash__', '__init__', '__init_subclass__', '__isabstractmethod__', '__le__', '__lt__', '__ne__', '__new__', '__reduce__', '__reduce_ex__', '__repr__', '__set__', '__setattr__', '__sizeof__', '__str__', '__subclasshook__', 'deleter', 'fdel', 'fget', 'fset', 'getter', 'setter']\n",
      "a is r in staticmethod\n",
      "a is r in classmethod of cls: <class '__main__.C'>\n",
      "a is r in staticmethod\n",
      "a is r in classmethod of cls: <class '__main__.C2'>\n",
      "z: 2\n",
      "c.a: None\n",
      "c.a: 5\n"
     ]
    }
   ],
   "source": [
    "class C:\n",
    "    def __init__(self, z):\n",
    "        self.z = z\n",
    "        self._a = None\n",
    "        \n",
    "    def print_contents(self):\n",
    "        print(f\"z: {self.z}\")\n",
    "        \n",
    "    @property\n",
    "    def a(self):\n",
    "        return self._a\n",
    "    @a.setter\n",
    "    def a(self, value):\n",
    "        self._a = value\n",
    "    @staticmethod\n",
    "    def s(a):\n",
    "        print(f\"a is {a} in staticmethod\")\n",
    "    @classmethod\n",
    "    def c(cls, a):\n",
    "        print(f\"a is {a} in classmethod of cls: {cls}\")\n",
    "class C2(C):\n",
    "    pass\n",
    "class AC(A, C):\n",
    "    pass\n",
    "c = C(1)\n",
    "c.s('r')\n",
    "c.c('r')\n",
    "c2 = C2(2)\n",
    "c2.s('r')\n",
    "c2.c('r')\n",
    "c2.print_contents()\n",
    "\n",
    "print(f\"c.a: {c.a}\")\n",
    "c.a = 5\n",
    "print(f\"c.a: {c.a}\")"
   ]
  },
  {
   "cell_type": "code",
   "execution_count": 170,
   "metadata": {},
   "outputs": [
    {
     "name": "stdout",
     "output_type": "stream",
     "text": [
      "numbers_genrator:<generator object numbers at 0x000001AB49B41570>\n",
      "next(numbers_genrator):0\n",
      "next(numbers_genrator):1\n",
      "next(numbers_genrator):2\n",
      "small_numbers_genrator:<generator object take at 0x000001AB49B415C8>\n",
      "list(small_numbers_genrator):[0, 1, 2, 3, 4, 5, 6, 7, 8, 9, 10]\n"
     ]
    },
    {
     "ename": "TypeError",
     "evalue": "'list' object is not an iterator",
     "output_type": "error",
     "traceback": [
      "\u001b[1;31m---------------------------------------------------------------------------\u001b[0m",
      "\u001b[1;31mTypeError\u001b[0m                                 Traceback (most recent call last)",
      "\u001b[1;32m<ipython-input-170-c589c3d09fc4>\u001b[0m in \u001b[0;36m<module>\u001b[1;34m\u001b[0m\n\u001b[0;32m     19\u001b[0m \u001b[0mprint\u001b[0m\u001b[1;33m(\u001b[0m\u001b[1;34mf\"small_numbers_genrator:{small_numbers_genrator}\"\u001b[0m\u001b[1;33m)\u001b[0m\u001b[1;33m\u001b[0m\u001b[0m\n\u001b[0;32m     20\u001b[0m \u001b[0mprint\u001b[0m\u001b[1;33m(\u001b[0m\u001b[1;34mf\"list(small_numbers_genrator):{list(small_numbers_genrator)}\"\u001b[0m\u001b[1;33m)\u001b[0m\u001b[1;33m\u001b[0m\u001b[0m\n\u001b[1;32m---> 21\u001b[1;33m \u001b[0mnext\u001b[0m\u001b[1;33m(\u001b[0m\u001b[1;33m[\u001b[0m\u001b[1;36m1\u001b[0m\u001b[1;33m,\u001b[0m\u001b[1;36m2\u001b[0m\u001b[1;33m,\u001b[0m\u001b[1;36m3\u001b[0m\u001b[1;33m]\u001b[0m\u001b[1;33m)\u001b[0m\u001b[1;33m\u001b[0m\u001b[0m\n\u001b[0m",
      "\u001b[1;31mTypeError\u001b[0m: 'list' object is not an iterator"
     ]
    }
   ],
   "source": [
    "#Yield and Generators\n",
    "def numbers():\n",
    "    i = 0\n",
    "    while True:\n",
    "        yield i\n",
    "        i+=1\n",
    "        \n",
    "def take(iterable, x):\n",
    "    while x >= 0:\n",
    "        x-=1\n",
    "        yield next(iterable)\n",
    "    \n",
    "numbers_genrator = numbers()        \n",
    "print(f\"numbers_genrator:{numbers_genrator}\")\n",
    "print(f\"next(numbers_genrator):{next(numbers_genrator)}\")\n",
    "print(f\"next(numbers_genrator):{next(numbers_genrator)}\")\n",
    "print(f\"next(numbers_genrator):{next(numbers_genrator)}\")\n",
    "small_numbers_genrator = take(numbers(), 10)\n",
    "print(f\"small_numbers_genrator:{small_numbers_genrator}\")\n",
    "print(f\"list(small_numbers_genrator):{list(small_numbers_genrator)}\")\n",
    "print(f\"sum(small_numbers_genrator):{list(small_numbers_genrator)}\")\n",
    "small_numbers_genrator_cubed = (x*x*x for x in small_numbers_genrator)\n",
    "\n",
    "print(f\"small cubes [x*x*x for x in small_numbers_genrator]:{small_numbers_genrator}\")\n",
    "print(f\"list(small_numbers_genrator):{list(small_numbers_genrator)}\")\n",
    "print(f\"sum(small_numbers_genrator):{list(small_numbers_genrator)}\")"
   ]
  },
  {
   "cell_type": "code",
   "execution_count": 161,
   "metadata": {},
   "outputs": [
    {
     "name": "stdout",
     "output_type": "stream",
     "text": [
      "file contains: '{f.read()}'\n",
      "in enter\n",
      "I have FakeResource1\n",
      "in exit\n",
      "I have FakeResource2\n",
      "fake disposal of FakeResource\n",
      "current dir 'C:\\Users\\roma\\Computer\\ProgrammingAttempts\\python\\python_intro_notes'\n",
      "current dir 'C:\\Users\\roma\\AppData\\Local\\Temp'\n",
      "current dir 'C:\\Users\\roma\\Computer\\ProgrammingAttempts\\python\\python_intro_notes'\n"
     ]
    }
   ],
   "source": [
    "#Context Manager\n",
    "import os\n",
    "from pathlib import Path\n",
    "from contextlib import contextmanager, closing\n",
    "path = Path('scratch.should_be_deleted')\n",
    "try:\n",
    "    path.write_text('some nonsense')\n",
    "    with open(path) as f:\n",
    "        print(\"file contains: '{f.read()}'\")\n",
    "finally:\n",
    "    if path.exists():\n",
    "        path.unlink()\n",
    "\n",
    "class FakeResource1:\n",
    "    def __enter__(self):\n",
    "        print('in enter')\n",
    "    def __exit__(self, type, value, traceback):\n",
    "        print('in exit')\n",
    "        self.close()\n",
    "    def close(self):\n",
    "        print('fake disposal of FakeResource1')\n",
    "    \n",
    "class FakeResource2:\n",
    "    def close(self):\n",
    "        print('fake disposal of FakeResource2')\n",
    "\n",
    "with FakeResource1() as f1:\n",
    "    print('I have FakeResource1')\n",
    "    \n",
    "# Some resources especially older ones implement .close but not enter and exit\n",
    "# in that case\n",
    "with closing(FakeResource2()) as f2:\n",
    "    print('I have FakeResource2')\n",
    "@contextmanager\n",
    "def in_directory_ctx(directory):\n",
    "    old_dir = os.getcwd()\n",
    "    try:\n",
    "        os.chdir(directory)\n",
    "        yield\n",
    "    finally:\n",
    "        os.chdir(old_dir)\n",
    "import tempfile\n",
    "print(f\"current dir '{os.getcwd()}'\")\n",
    "with in_directory_ctx(tempfile.gettempdir()):\n",
    "    print(f\"current dir '{os.getcwd()}'\")\n",
    "print(f\"current dir '{os.getcwd()}'\")"
   ]
  },
  {
   "cell_type": "code",
   "execution_count": null,
   "metadata": {},
   "outputs": [],
   "source": [
    "# filesystem and process managment"
   ]
  },
  {
   "cell_type": "code",
   "execution_count": null,
   "metadata": {},
   "outputs": [],
   "source": [
    "# Functools"
   ]
  },
  {
   "cell_type": "code",
   "execution_count": null,
   "metadata": {},
   "outputs": [],
   "source": [
    "#Advanced Metaclasses\n",
    "#Advanced Descriptors\n",
    "#Advanced Generators send"
   ]
  }
 ],
 "metadata": {
  "kernelspec": {
   "display_name": "Python 3",
   "language": "python",
   "name": "python3"
  },
  "language_info": {
   "codemirror_mode": {
    "name": "ipython",
    "version": 3
   },
   "file_extension": ".py",
   "mimetype": "text/x-python",
   "name": "python",
   "nbconvert_exporter": "python",
   "pygments_lexer": "ipython3",
   "version": "3.6.6"
  }
 },
 "nbformat": 4,
 "nbformat_minor": 2
}
