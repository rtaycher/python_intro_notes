{
 "cells": [
  {
   "cell_type": "code",
   "execution_count": 46,
   "metadata": {},
   "outputs": [],
   "source": [
    "import requests\n",
    "from lxml import etree \n",
    "# note the standard library xml.etree.cElementTree/xml.etree.ElementTree has a similar but not exactly the same api\n",
    "# if you can rely on lxml use it, otherwise use them\n",
    "# I would not recommend trying to not to paper over differences as lxml has too much stuff not in the builtin xml library\n"
   ]
  },
  {
   "cell_type": "code",
   "execution_count": 71,
   "metadata": {},
   "outputs": [
    {
     "data": {
      "text/plain": [
       "<Response [200]>"
      ]
     },
     "execution_count": 71,
     "metadata": {},
     "output_type": "execute_result"
    }
   ],
   "source": [
    "r=requests.get('https://jsonplaceholder.typicode.com/users')\n",
    "r.raise_for_status()# check for non 400/500 error response codes, throw exception if they occur\n",
    "r"
   ]
  },
  {
   "cell_type": "code",
   "execution_count": 72,
   "metadata": {},
   "outputs": [
    {
     "data": {
      "text/plain": [
       "'[\\n  {\\n    \"id\": 1,\\n    \"name\": \"Leanne Graham\",\\n    \"username\": \"Bret\",\\n    \"email\": \"Sincere@april.'"
      ]
     },
     "execution_count": 72,
     "metadata": {},
     "output_type": "execute_result"
    }
   ],
   "source": [
    "r.text[:100]"
   ]
  },
  {
   "cell_type": "code",
   "execution_count": 75,
   "metadata": {},
   "outputs": [
    {
     "data": {
      "text/plain": [
       "[{'id': 1,\n",
       "  'name': 'Leanne Graham',\n",
       "  'username': 'Bret',\n",
       "  'email': 'Sincere@april.biz',\n",
       "  'address': {'street': 'Kulas Light',\n",
       "   'suite': 'Apt. 556',\n",
       "   'city': 'Gwenborough',\n",
       "   'zipcode': '92998-3874',\n",
       "   'geo': {'lat': '-37.3159', 'lng': '81.1496'}},\n",
       "  'phone': '1-770-736-8031 x56442',\n",
       "  'website': 'hildegard.org',\n",
       "  'company': {'name': 'Romaguera-Crona',\n",
       "   'catchPhrase': 'Multi-layered client-server neural-net',\n",
       "   'bs': 'harness real-time e-markets'}},\n",
       " {'id': 2,\n",
       "  'name': 'Ervin Howell',\n",
       "  'username': 'Antonette',\n",
       "  'email': 'Shanna@melissa.tv',\n",
       "  'address': {'street': 'Victor Plains',\n",
       "   'suite': 'Suite 879',\n",
       "   'city': 'Wisokyburgh',\n",
       "   'zipcode': '90566-7771',\n",
       "   'geo': {'lat': '-43.9509', 'lng': '-34.4618'}},\n",
       "  'phone': '010-692-6593 x09125',\n",
       "  'website': 'anastasia.net',\n",
       "  'company': {'name': 'Deckow-Crist',\n",
       "   'catchPhrase': 'Proactive didactic contingency',\n",
       "   'bs': 'synergize scalable supply-chains'}},\n",
       " {'id': 3,\n",
       "  'name': 'Clementine Bauch',\n",
       "  'username': 'Samantha',\n",
       "  'email': 'Nathan@yesenia.net',\n",
       "  'address': {'street': 'Douglas Extension',\n",
       "   'suite': 'Suite 847',\n",
       "   'city': 'McKenziehaven',\n",
       "   'zipcode': '59590-4157',\n",
       "   'geo': {'lat': '-68.6102', 'lng': '-47.0653'}},\n",
       "  'phone': '1-463-123-4447',\n",
       "  'website': 'ramiro.info',\n",
       "  'company': {'name': 'Romaguera-Jacobson',\n",
       "   'catchPhrase': 'Face to face bifurcated interface',\n",
       "   'bs': 'e-enable strategic applications'}}]"
      ]
     },
     "execution_count": 75,
     "metadata": {},
     "output_type": "execute_result"
    }
   ],
   "source": [
    "data=r.json()\n",
    "data[0:3]"
   ]
  },
  {
   "cell_type": "code",
   "execution_count": 76,
   "metadata": {},
   "outputs": [
    {
     "data": {
      "text/plain": [
       "{'args': {},\n",
       " 'data': '',\n",
       " 'files': {},\n",
       " 'form': {'address': ['street', 'suite', 'city', 'zipcode', 'geo'],\n",
       "  'company': ['name', 'catchPhrase', 'bs'],\n",
       "  'email': 'Sincere@april.biz',\n",
       "  'id': '1',\n",
       "  'name': 'Leanne Graham',\n",
       "  'phone': '1-770-736-8031 x56442',\n",
       "  'username': 'Bret',\n",
       "  'website': 'hildegard.org'},\n",
       " 'headers': {'Accept': '*/*',\n",
       "  'Accept-Encoding': 'gzip, deflate',\n",
       "  'Connection': 'close',\n",
       "  'Content-Length': '227',\n",
       "  'Content-Type': 'application/x-www-form-urlencoded',\n",
       "  'Host': 'httpbin.org',\n",
       "  'User-Agent': 'Mozilla/5.0 (Windows NT 6.1; WOW64; rv:64.0) Gecko/20100101 Firefox/64.0'},\n",
       " 'json': None,\n",
       " 'origin': '50.43.47.77',\n",
       " 'url': 'http://httpbin.org/post'}"
      ]
     },
     "execution_count": 76,
     "metadata": {},
     "output_type": "execute_result"
    }
   ],
   "source": [
    "firefox_user_agent = 'Mozilla/5.0 (Windows NT 6.1; WOW64; rv:64.0) Gecko/20100101 Firefox/64.0'\n",
    "headers = {'User-Agent': firefox_user_agent}\n",
    "r_bin=requests.post(\"http://httpbin.org/post\", data=data[0], headers=headers)\n",
    "r_bin.json()"
   ]
  },
  {
   "cell_type": "code",
   "execution_count": 77,
   "metadata": {},
   "outputs": [],
   "source": [
    "r_vk=requests.get('https://raw.githubusercontent.com/KhronosGroup/Vulkan-Docs/1.0/src/spec/vk.xml')\n",
    "r_vk.raise_for_status()"
   ]
  },
  {
   "cell_type": "code",
   "execution_count": 78,
   "metadata": {},
   "outputs": [
    {
     "data": {
      "text/plain": [
       "('<?xml version=\"1.0\" encoding=\"UTF-8\"?>',\n",
       " 'This file, vk.xml, is the Vulkan API Registry. It is a critically important')"
      ]
     },
     "execution_count": 78,
     "metadata": {},
     "output_type": "execute_result"
    }
   ],
   "source": [
    "(r_vk.text.split(\"\\n\")[0], r_vk.text.split(\"\\n\")[19])"
   ]
  },
  {
   "cell_type": "code",
   "execution_count": 79,
   "metadata": {},
   "outputs": [
    {
     "name": "stdout",
     "output_type": "stream",
     "text": [
      "[<Element command at 0x207454c3848>]\n",
      "<command successcodes=\"VK_SUCCESS\" errorcodes=\"VK_ERROR_OUT_OF_HOST_MEMORY,VK_ERROR_OUT_OF_DEVICE_MEMORY\">\n",
      "            <proto><type>VkResult</type> <name>vkCreateSemaphore</name></proto>\n",
      "            <param><type>VkDevice</type> <name>device</name></param>\n",
      "            <param>const <type>VkSemaphoreCreateInfo</type>* <name>pCreateInfo</name></param>\n",
      "            <param optional=\"true\">const <type>VkAllocationCallbacks</type>* <name>pAllocator</name></param>\n",
      "            <param><type>VkSemaphore</type>* <name>pSemaphore</name></param>\n",
      "        </command>\n",
      "        \n",
      "\n"
     ]
    }
   ],
   "source": [
    "tree = etree.fromstring(r_vk.content, parser= etree.XMLParser(encoding='utf-8'))\n",
    "nodes = tree.xpath('//command/proto/name[text()=\"vkCreateSemaphore\"]/../..')\n",
    "print(nodes)\n",
    "print(etree.tostring(nodes[0], encoding='unicode', pretty_print=True))"
   ]
  },
  {
   "cell_type": "code",
   "execution_count": 80,
   "metadata": {},
   "outputs": [
    {
     "data": {
      "text/plain": [
       "'VK_SUCCESS'"
      ]
     },
     "execution_count": 80,
     "metadata": {},
     "output_type": "execute_result"
    }
   ],
   "source": [
    "nodes[0].attrib['successcodes']"
   ]
  },
  {
   "cell_type": "code",
   "execution_count": 7,
   "metadata": {},
   "outputs": [],
   "source": [
    "# IPython specific hack to run pytest\n",
    "__file__ = '004 - Some common and useful 3rd party libraries.ipynb'\n",
    "import ipytest\n",
    "# add ipython magics\n",
    "import ipytest.magics\n",
    "ipytest.config.rewrite_asserts = True\n",
    "import pytest"
   ]
  },
  {
   "cell_type": "code",
   "execution_count": 11,
   "metadata": {},
   "outputs": [
    {
     "name": "stdout",
     "output_type": "stream",
     "text": [
      "F.                                                                       [100%]\n",
      "================================== FAILURES ===================================\n",
      "___________________________________ test_v ____________________________________\n",
      "\n",
      "    def test_v():\n",
      "        a = A(5)\n",
      ">       assert a.v == 4\n",
      "E       assert 5 == 4\n",
      "E         -5\n",
      "E         +4\n",
      "\n",
      "<ipython-input-11-79dc733cb4f5>:10: AssertionError\n"
     ]
    }
   ],
   "source": [
    "%%run_pytest[clean] -qq\n",
    "# the above (run_pytest and previous cell setup) is a python specific hack to run pytest\n",
    "# it doesn't belong in a real python script\n",
    "# you just call it with `pytest test_script.py` or `python -m pytest test_script.py`  \n",
    "class A:\n",
    "    def __init__(self, v):\n",
    "        self.v = v\n",
    "\n",
    "def test_v():\n",
    "    a = A(5)\n",
    "    assert a.v == 4\n",
    "\n",
    "def test_missing_attribute_causes_exception():\n",
    "    a = A(5)\n",
    "    with pytest.raises(AttributeError):\n",
    "        a.random_attribute_name\n",
    "\n"
   ]
  }
 ],
 "metadata": {
  "kernelspec": {
   "display_name": "Python 3",
   "language": "python",
   "name": "python3"
  },
  "language_info": {
   "codemirror_mode": {
    "name": "ipython",
    "version": 3
   },
   "file_extension": ".py",
   "mimetype": "text/x-python",
   "name": "python",
   "nbconvert_exporter": "python",
   "pygments_lexer": "ipython3",
   "version": "3.6.6"
  }
 },
 "nbformat": 4,
 "nbformat_minor": 2
}
