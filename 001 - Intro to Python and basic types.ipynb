{
 "cells": [
  {
   "cell_type": "markdown",
   "metadata": {},
   "source": [
    "**Python** is an object oriented, practical (but somewhat slow) general purpose programming language.\n",
    "\n",
    "## Versions\n",
    "\n",
    "Sadly a large percentage of people are stuck with python 2.7\n",
    "\n",
    "If possible people should use python3 \n",
    "\n",
    "3.7 is the latest version but doesn't add much over 3.6 other then some more async stuff and shortcuts for simple data classes with auto generated str/eq/compare)  \n",
    "\n",
    "3.6 adds interpolated strings, better optional static typing support, async stuff"
   ]
  },
  {
   "cell_type": "code",
   "execution_count": 1,
   "metadata": {},
   "outputs": [
    {
     "data": {
      "text/plain": [
       "'interpolated strings. Yay!!!!!!!!!!!!!!!!!!!!!!!!!!!!!!!!!!!!!!!!!!!!!!!!!!!!!!!!!!!!!!!!!!!!!!!!!!!!!!!!!!!!!!!!!!!!!!!!!!!!'"
      ]
     },
     "execution_count": 1,
     "metadata": {},
     "output_type": "execute_result"
    }
   ],
   "source": [
    " f\"interpolated strings. Yay{'!'*100}\""
   ]
  },
  {
   "cell_type": "code",
   "execution_count": 2,
   "metadata": {},
   "outputs": [
    {
     "data": {
      "text/plain": [
       "'Python 3.6.6'"
      ]
     },
     "execution_count": 2,
     "metadata": {},
     "output_type": "execute_result"
    }
   ],
   "source": [
    "import sys\n",
    "import subprocess\n",
    "subprocess.check_output([sys.executable, '--version'], universal_newlines=True).strip() \n",
    "# universal_newlines makes subprocess return (unicode) str instead of bytes (byte string)\n",
    "# in python3.7+ it is deprecated in favor of text parameter which does the same thing(and has a better name)"
   ]
  },
  {
   "cell_type": "markdown",
   "metadata": {},
   "source": [
    "python is an object oriented language, in that everything is an object. \n",
    "\n",
    "An object in python is basically a dictionary or a chain of dictionaries and special key->value lookup methods.\n",
    "Python functions and methods are callable objects (can be called by putting parens and arguments after fetching them) that share the namespaces of variables and fields/properties respectively. \n",
    "\n",
    "But python does not have to be structured in an object oriented way, that is unlike java/c# or Smalltalk main is not some special method of an object. "
   ]
  },
  {
   "cell_type": "markdown",
   "metadata": {},
   "source": [
    "# For(each) loops, while loops and list comprehensions\n",
    "\n",
    "Python has list comprehensions that allow you to map and filter lists \n",
    "they are much nicer then\n",
    "Some things are more easily expressed as foreach loops.\n",
    "Python doesn't really have c style for loops although you can emulate these with while loops and foreach loops over ranges."
   ]
  },
  {
   "cell_type": "code",
   "execution_count": 3,
   "metadata": {},
   "outputs": [
    {
     "name": "stdout",
     "output_type": "stream",
     "text": [
      "+5.5|(loop with break and continue)\n",
      "a - <class 'str'>|c - <class 'str'>|e - <class 'str'>|g - <class 'str'>|i - <class 'str'>|(loop over string)\n",
      "1|3|5|7|9|(foreach loop over range, print odd numbers)\n",
      "1|3|5|7|9|(while loop, print odd numbers <=10)\n",
      "0: Alice|1: Bob|2: Charlie|3: Duke|4: Ellington|(bad loop with index)\n",
      "0: Alice1: Bob2: Charlie3: Duke4: Ellington(good loop with index)\n"
     ]
    },
    {
     "data": {
      "text/plain": [
       "[-6.9, -0.9, 5.1]"
      ]
     },
     "execution_count": 3,
     "metadata": {},
     "output_type": "execute_result"
    }
   ],
   "source": [
    "for i in [1.1,5.5,9.9]:\n",
    "    if i > 6:\n",
    "        break\n",
    "    if i == 1.1:\n",
    "        continue\n",
    "    sys.stdout.write(f\"{i:+2}|\")\n",
    "print(\"(loop with break and continue)\")\n",
    "\n",
    "for c in \"ACEGI\":\n",
    "    # strings support iteration for good or bad\n",
    "    #(A common error caused by this is accidentally looping over chars in a string instead list of lists of strings)\n",
    "    # and when I say char i mean strings of len 1, python doesn't have a char type\n",
    "    sys.stdout.write(c.lower() + \" - \" + str(type(c)) + \"|\")\n",
    "print(\"(loop over string)\")\n",
    "\n",
    "# python doesn't have a c style for loop :-) so to loop over numbers you specify a range\n",
    "for i in range(10):\n",
    "    if i % 2 == 1:\n",
    "        sys.stdout.write(f\"{i}|\")\n",
    "print(\"(foreach loop over range, print odd numbers)\")\n",
    "\n",
    "# you can also\n",
    "i=0\n",
    "while i <=10:\n",
    "    if i % 2 == 1:\n",
    "        sys.stdout.write(f\"{i}|\")\n",
    "    i+=1\n",
    "print(\"(while loop, print odd numbers <=10)\")\n",
    "\n",
    "#if you want to iterate with an index DONT USE - range(len(lst))\n",
    "users=[\"Alice\", \"Bob\", \"Charlie\", \"Duke\", \"Ellington\"]\n",
    "for i in range(len(users)):\n",
    "    sys.stdout.write(f\"{i}: {users[i]}|\")\n",
    "print(\"(bad loop with index)\")\n",
    "\n",
    "#instead DO THIS\n",
    "for i, user in enumerate([\"Alice\", \"Bob\", \"Charlie\", \"Duke\", \"Ellington\"]):\n",
    "    sys.stdout.write(f\"{i}: {user}\")\n",
    "print(\"(good loop with index)\")\n",
    "\n",
    "start = -10\n",
    "stop = 10\n",
    "step = 3\n",
    "# range take 1 (stop) or 2 (start, stop) or 3 (start, stop, end) arguments, poisitional arguments\n",
    "\n",
    "# a List comprehension is a new list made inline as a statement without having to create a new array and append to it\n",
    "[x+0.1 \n",
    "    for x in range(start, stop, step) \n",
    "    if x % 2 == 1]\n"
   ]
  },
  {
   "cell_type": "code",
   "execution_count": 4,
   "metadata": {},
   "outputs": [
    {
     "name": "stdout",
     "output_type": "stream",
     "text": [
      "basic types\n"
     ]
    },
    {
     "data": {
      "text/plain": [
       "[(bool, True),\n",
       " (bool, False),\n",
       " (int, 0),\n",
       " (float, 1.0),\n",
       " (float, inf),\n",
       " (float, nan),\n",
       " (complex, (2+3j)),\n",
       " (str, 'Unicode encoded string'),\n",
       " (bytes, b'binary byte string'),\n",
       " (list, [1, 2, 3]),\n",
       " (tuple, (1, 2, 3)),\n",
       " (range, range(0, 3)),\n",
       " (set, {1, 2, 3}),\n",
       " (dict, {'a': 1, 'b': 5, 'c': 3})]"
      ]
     },
     "execution_count": 4,
     "metadata": {},
     "output_type": "execute_result"
    }
   ],
   "source": [
    "import math\n",
    "#type is a fairly complicated class (\n",
    "# its the default metaclass or the default class of class objects, and can be used to dynamically create classes)\n",
    "#but for our purpose here it just acts like a function returning an instances class\n",
    "print('basic types')\n",
    "[(type(obj), obj) for obj in [True, False, 0, 1.0, math.inf, math.nan, 2+3j,\n",
    "                             \"Unicode encoded string\", b\"binary byte string\",\n",
    "                             [1,2,3],(1,2,3),range(3), set([1,2,3]), dict(a=1,b=5,c=3)]]"
   ]
  },
  {
   "cell_type": "markdown",
   "metadata": {},
   "source": [
    "# bool\n",
    "\n",
    "`bool` can have one of two values `True` or `False`\n",
    "\n",
    "At the same time Python objects in general (and in python everything is an object) have truthiness. \n",
    "\n",
    "\n",
    "Any 0, `False`, empty collection, None (null), empty collection, \n",
    "\n",
    "or object with `def __bool__(self):` method returning `False` is falsey and can be used like `False`.\n",
    "\n",
    "Everything else is `True` and can be used .\n",
    "\n",
    "Every\n",
    "```python\n",
    "   while condtion: #while loop\n",
    "       condtion = do_the_thing()\n",
    "   # or branch\n",
    "   if condition:\n",
    "        do_x()\n",
    "    elif condition_two:\n",
    "        do_y()\n",
    "``` \n",
    "\n",
    "takes any object not just\n",
    "\n",
    "Unlike javascripts weird truth tables,  \n",
    "python's truthiness is very predictable  \n",
    "and usually does what you want (except maybe with `0` which is occasionaly a valid value but is still falsey)\n",
    "\n",
    "In every `while`/`if` check a truthy object is treated as True and a falsey object is treated as `False`. You can check whether an object is truthy or falsey but feeding them to the `bool(obj)` constructor."
   ]
  },
  {
   "cell_type": "code",
   "execution_count": 5,
   "metadata": {},
   "outputs": [
    {
     "data": {
      "text/plain": [
       "[(0, False),\n",
       " (1, True),\n",
       " (-1, True),\n",
       " ('', False),\n",
       " (' ', True),\n",
       " ('str', True),\n",
       " (b'', False),\n",
       " (b'0', True),\n",
       " ([], False),\n",
       " ([None], True),\n",
       " ([''], True),\n",
       " (set(), False),\n",
       " ({1}, True),\n",
       " ((), False),\n",
       " ((1, 2), True),\n",
       " (range(0, 0), False),\n",
       " (range(0, 5), True),\n",
       " ({}, False),\n",
       " ({'a': 1}, True),\n",
       " (datetime.timedelta(0), False),\n",
       " (datetime.timedelta(0, 600), True)]"
      ]
     },
     "execution_count": 5,
     "metadata": {},
     "output_type": "execute_result"
    }
   ],
   "source": [
    "import datetime\n",
    "[(x, bool(x)) for x in [0,1,-1,\n",
    "                       \"\", \" \", \"str\",b\"\", b\"0\",\n",
    "                       [],[None], [\"\"], set([]), set([1]),tuple([]),(1,2),\n",
    "                        range(0), range(5), dict(), {'a':1},\n",
    "                      datetime.timedelta(0), datetime.timedelta(minutes=10)]]"
   ]
  },
  {
   "cell_type": "code",
   "execution_count": 39,
   "metadata": {},
   "outputs": [
    {
     "data": {
      "text/plain": [
       "(True, False, False, False, True)"
      ]
     },
     "execution_count": 39,
     "metadata": {},
     "output_type": "execute_result"
    }
   ],
   "source": [
    "(True or False, True and False, not True, not not [], not not \" \")"
   ]
  },
  {
   "cell_type": "code",
   "execution_count": 36,
   "metadata": {},
   "outputs": [
    {
     "data": {
      "text/plain": [
       "5"
      ]
     },
     "execution_count": 36,
     "metadata": {},
     "output_type": "execute_result"
    }
   ],
   "source": [
    "x = None\n",
    "x = x or 5 # initilization hack\n",
    "x"
   ]
  },
  {
   "cell_type": "markdown",
   "metadata": {},
   "source": [
    "# list\n",
    "\n",
    "A mutable list of objects. In a staticly typed language all objects in a collection<T> must conform to a Type T (or an interface T,etc). In Python a list can contain any objects at all but I wouldn't reccomend it most of the time.\n",
    "\n",
    "If the list contain dissimilar objects then its hard to run the same operation on all of them.\n",
    "\n",
    "Python acts on the principle of duck typing.\n",
    "\n",
    "If it walks like a duck and it quacks like a duck, then it must be a duck.\n",
    "\n",
    "For the sake of organization people have and can use inheritence, inheritence from abstract base classses(abc.ABCMeta), or a third party library for interfaces. But in practice you can just have different classes implement the same method and the"
   ]
  },
  {
   "cell_type": "code",
   "execution_count": 6,
   "metadata": {},
   "outputs": [
    {
     "data": {
      "text/plain": [
       "True"
      ]
     },
     "execution_count": 6,
     "metadata": {},
     "output_type": "execute_result"
    }
   ],
   "source": [
    "[1,2,3] == list((1,2,3))"
   ]
  },
  {
   "cell_type": "code",
   "execution_count": 7,
   "metadata": {},
   "outputs": [
    {
     "data": {
      "text/plain": [
       "([1, 2, 3, 4, 5.5, 6, 7, 9, 9, 10],\n",
       " 1,\n",
       " 10,\n",
       " [1, 2, 3],\n",
       " [1, 2, 3],\n",
       " [2, 3, 4, 5.5, 6, 7, 9, 9, 10],\n",
       " [3, 4, 5.5, 6, 7, 9])"
      ]
     },
     "execution_count": 7,
     "metadata": {},
     "output_type": "execute_result"
    }
   ],
   "source": [
    "lst = [1,2,3]\n",
    "lst = lst + [4,6] # + is combine for lists\n",
    "lst += [7,9,9] # x += y is equivalent to x = x + y both for numbers, strings, and lists \n",
    "lst.append(10) # add one element at the end\n",
    "lst.insert(4,5.5) # add an element at the 4th position\n",
    "(lst, \n",
    " lst[0], # 0 is the first index\n",
    " lst[-1], # -1 is the last index\n",
    " lst[0:3], # list slice elements from 0th upto but not including 3rd element\n",
    " lst[:3], # list slice w/ elements from 0th upto but not including 3rd element\n",
    " lst[1:], # list slice w/ elements from 1th upto last\n",
    " lst[2:-2] #elements from 2nd upto but not including next to last element\n",
    ")"
   ]
  },
  {
   "cell_type": "code",
   "execution_count": 8,
   "metadata": {},
   "outputs": [
    {
     "name": "stdout",
     "output_type": "stream",
     "text": [
      "[1, 3, 4, 6, 7, 9, 9, 10]\n"
     ]
    },
    {
     "data": {
      "text/plain": [
       "[1, 3, 7, 9, 9]"
      ]
     },
     "execution_count": 8,
     "metadata": {},
     "output_type": "execute_result"
    }
   ],
   "source": [
    "lst2 = list(lst) # copy lst and reassign it to lst2\n",
    "(len(lst2),max(lst2), sum(lst2), sorted(lst2, reverse=True))\n",
    "del lst2[1] # del 1st element\n",
    "lst2.remove(5.5) # remove first occurance of 5.5 from the list\n",
    "print(lst2)\n",
    "lst2 = [e for e in lst2 if e%2 == 1] # re assign lst to one without even numbers\n",
    "lst2\n"
   ]
  },
  {
   "cell_type": "code",
   "execution_count": 9,
   "metadata": {},
   "outputs": [
    {
     "data": {
      "text/plain": [
       "[111, 11, 20, 1, 5]"
      ]
     },
     "execution_count": 9,
     "metadata": {},
     "output_type": "execute_result"
    }
   ],
   "source": [
    "lst3= [1,5,11,20,111]\n",
    "lst3.sort(key=lambda i:len(str(i)), reverse=True) # sort in place by number of digits\n",
    "lst3"
   ]
  },
  {
   "cell_type": "markdown",
   "metadata": {},
   "source": [
    "# tuple\n",
    "\n",
    "A tuple is a type that serves two purposes. \n",
    "\n",
    "Sometimes it fulfils a role similar to an immutable list/ordered indexable collection.\n",
    "\n",
    "But most times it's an unnamed positional struct, bringing together different things in a data structure.\n",
    "(There is also a named tuple in cases where you find a tuple you've been using for a while to be too loosey goosey,\n",
    "named tuple gives fields names like a struct/class but retains indexing by position making it compatible with old code)\n",
    "Partially because of that it's also used to return multiple items from functions and to split them into variables."
   ]
  },
  {
   "cell_type": "code",
   "execution_count": 55,
   "metadata": {},
   "outputs": [
    {
     "data": {
      "text/plain": [
       "True"
      ]
     },
     "execution_count": 55,
     "metadata": {},
     "output_type": "execute_result"
    }
   ],
   "source": [
    "tuple([1,2,3])==(1,2,3)"
   ]
  },
  {
   "cell_type": "code",
   "execution_count": 10,
   "metadata": {},
   "outputs": [
    {
     "name": "stdout",
     "output_type": "stream",
     "text": [
      "r: 255 g: 0 b: 100\n"
     ]
    }
   ],
   "source": [
    "def get_color():\n",
    "    \"\"\"fake get color\"\"\"\n",
    "    return 255,0,100\n",
    "r,g,b = get_color()\n",
    "print(f'r: {r} g: {g} b: {b}')"
   ]
  },
  {
   "cell_type": "markdown",
   "metadata": {},
   "source": [
    "# bytes (binary string)\n",
    "\n",
    "binary strings are sort of like const char *,  \n",
    "there is some support for binary ascii literals prefixed with a b'  \n",
    "but they can contain random binary data as well as strings.'\n",
    "      \n",
    "Unless there is a need to compare them to other binary strings usually avoid them\n",
    "and convert them to str early on\n",
    " \n",
    "(for some of the binary data use cases. A\n",
    "\n",
    "bytearray type also exists as a mutable version of bytes, and a memoryview type that points to data without copying\n",
    "it each time)\n",
    "      \n",
    "# str (unicode string)\n",
    "\n",
    "regular strings that have already been interpreted as unicode"
   ]
  },
  {
   "cell_type": "code",
   "execution_count": 57,
   "metadata": {},
   "outputs": [
    {
     "name": "stdout",
     "output_type": "stream",
     "text": [
      "strings can be in single quotes with \"unescaped double quotes\"\n",
      "or double quotes with 'unescaped single quotes\n",
      "'raw form to allow unescaped backslashes (unless its the last charecter) c:\\User\\name\\path\\\\\\\n",
      "    multiline string literals\n",
      "    optionally dedent being used to align it without extra spaces at the start of each line\n",
      "    due to pythons whitespace rules.\n",
      "    multiline string literals\n",
      "\n"
     ]
    }
   ],
   "source": [
    "import textwrap\n",
    "print('strings can be in single quotes with \"unescaped double quotes\"\\n' + \n",
    "\"or double quotes with 'unescaped single quotes\\n'\" +\n",
    "r'raw form to allow unescaped backslashes (unless its the last charecter) c:\\User\\name\\path\\\\' +\n",
    "textwrap.dedent(r\"\"\"\\\n",
    "    multiline string literals\n",
    "    optionally dedent being used to align it without extra spaces at the start of each line\n",
    "    due to pythons whitespace rules.\n",
    "    multiline string literals\n",
    "    \"\"\"))"
   ]
  },
  {
   "cell_type": "code",
   "execution_count": 52,
   "metadata": {},
   "outputs": [
    {
     "data": {
      "text/plain": [
       "['0: a',\n",
       " '1:  ',\n",
       " '2: m',\n",
       " '3: a',\n",
       " '4: n',\n",
       " '5:  ',\n",
       " '6: a',\n",
       " '7:  ',\n",
       " '8: p',\n",
       " '9: l',\n",
       " '10: a',\n",
       " '11: n',\n",
       " '12:  ',\n",
       " '13: a',\n",
       " '14:  ',\n",
       " '15: c',\n",
       " '16: a',\n",
       " '17: n',\n",
       " '18: a',\n",
       " '19: l',\n",
       " '20:  ',\n",
       " '21: p',\n",
       " '22: a',\n",
       " '23: n',\n",
       " '24: a',\n",
       " '25: m',\n",
       " '26: a']"
      ]
     },
     "execution_count": 52,
     "metadata": {},
     "output_type": "execute_result"
    }
   ],
   "source": [
    "[f'{i}: {c}' for i,c in enumerate(\"a man a plan a canal panama\")] # strings are enumerable and can be treated as such"
   ]
  },
  {
   "cell_type": "code",
   "execution_count": 54,
   "metadata": {},
   "outputs": [
    {
     "data": {
      "text/plain": [
       "'world'"
      ]
     },
     "execution_count": 54,
     "metadata": {},
     "output_type": "execute_result"
    }
   ],
   "source": [
    "'hello world'[6:] # you can take a string slice"
   ]
  },
  {
   "cell_type": "code",
   "execution_count": 56,
   "metadata": {},
   "outputs": [
    {
     "data": {
      "text/plain": [
       "'hello world'"
      ]
     },
     "execution_count": 56,
     "metadata": {},
     "output_type": "execute_result"
    }
   ],
   "source": [
    "'hello ' + 'world'"
   ]
  },
  {
   "cell_type": "code",
   "execution_count": 40,
   "metadata": {},
   "outputs": [
    {
     "data": {
      "text/plain": [
       "'byte string'"
      ]
     },
     "execution_count": 40,
     "metadata": {},
     "output_type": "execute_result"
    }
   ],
   "source": [
    "b'the usual recommended way to make a byte string into a unicode string'.decode('utf-8', 'ignore')"
   ]
  },
  {
   "cell_type": "code",
   "execution_count": 48,
   "metadata": {},
   "outputs": [
    {
     "data": {
      "text/plain": [
       "b'the usual recommended way to make a byte string into a unicode string'"
      ]
     },
     "execution_count": 48,
     "metadata": {},
     "output_type": "execute_result"
    }
   ],
   "source": [
    "'the usual recommended way to make a unicode string into a byte string'.encode('utf-8')"
   ]
  },
  {
   "cell_type": "code",
   "execution_count": 49,
   "metadata": {},
   "outputs": [
    {
     "data": {
      "text/plain": [
       "'my way'"
      ]
     },
     "execution_count": 49,
     "metadata": {},
     "output_type": "execute_result"
    }
   ],
   "source": [
    "str(b'my way which I think is more readable', encoding='utf-8', errors='ignore')"
   ]
  },
  {
   "cell_type": "code",
   "execution_count": 51,
   "metadata": {},
   "outputs": [
    {
     "data": {
      "text/plain": [
       "b'my way which I think is more readable'"
      ]
     },
     "execution_count": 51,
     "metadata": {},
     "output_type": "execute_result"
    }
   ],
   "source": [
    "bytes('my way which I think is more readable', encoding='utf-8')"
   ]
  },
  {
   "cell_type": "markdown",
   "metadata": {},
   "source": [
    "# int\n",
    "\n",
    "python Integers have unlimited precision (or to be more accurate has size constrained by memory size not 32 bits)"
   ]
  },
  {
   "cell_type": "code",
   "execution_count": 30,
   "metadata": {},
   "outputs": [
    {
     "data": {
      "text/plain": [
       "10000000000000000000000000000000000000000000000000000000000000000000000000000000000000000000000000000000000000000000000000000000000000000000000000000000000000000000000000000000000000000000000000000000000000000000000000000000000000000000000000000000000000000000000000000000000000000000000000000000000000000000000000000000000000000000000000000000000000000000000000000000000000000000000000000000000000000000000000000000000000000000000000000000000000000000000000000000000000000000000000000000000000000000000000000000000000000000000000000000000000000000000000000000000000000000000000000000000000000000000000000000000000000000000000000000000000000000000000000000000000000000000000000000000000000000000000000000000000000000000000000000000000000000000000000000000000000000000000000000000000000000000000000000000000000000000000000000000000000000000000000000000000000000000000000000000000000000000000000000000000000000000000000000000000000000000000000000000000000000000000000000000000000000000000000000000000000000000000000000000000000000000000000000000000000000000000000000000000000000000000000000000000000000000000000000000000000000000000000000000000000000000000000000000000000000000000000000000000000000000000000000000000000000000000000000000000000000000000000000000000000000000000000000000000000000000000000000000000000000000000000000000000000000000000000000000000000000000000000000000000000000000000000000000000000000000000000000000000000000000000000000000000000000000000000000000000000000000000000000000000000000000000000000000000000000000000000000000000000000000000000000000000000000000000000000000000000000000000000000000000000000000000000000000000000000000000000000000000000000000000000000000000000000000000000000000000000000000000000000000000000000000000000000000000000000000000000000000000000000000000000000000000000000000000000000000000000000000000000000000000000000000000000000000000000000000000000000000000000000000000000000000000000000000000000000000000000000000000000000000000000000000000000000000000000000000000000000000000000000000000000000000000000000000000000000000000000000000000000000000000000000000000000000000000000000000000000000000000000000000000000000000000000000000000000000000000000000000000000000000000000000000000000000000000000000000000000000000000000000000000000000000000000000000000000000000000000000000000000000000000000000000000000000000000000000000000000000000000000000000000000000000000000000000000000000000000000000000000000000000000000000000000000000000000000000000000000000000000000000000000000000000000000000000000000000000000000000000000000000000000000000000000000000000000000000000000000000000000000000000000000000000000000000000000000000000000000000000000000000000000000000000000000000000000000000000000000000000000000000000000000000000000000000000000000000000000000000000000000000000000000000000000000000000000000000000000000000000000000000000000000000000000000000000000000000000000000000000000000000000000000000000000000000000000000000000000000000000000000000000000000000000000000000000000000000000000000000000000000000000000000000000000000000000000000000000000000000000000000000000000000000000000000000000000000000000000000000000000000000000000000000000000000000000000000000000000000000000000000000000000000000000000000000000000000000000000000000000000000000000000000000000000000000000000000000000000000000000000000000000000000000000000000000000000000000000000000000000000000000000000000000000000000000000000000000000000000000000000000000000000000000000000000000000000000000000000000000000000000000000000000000000000000000000000000000000000000000000000000000000000000000000000000000000000000000000000000000000000000000000000000000000000000000000000000000000000000000000000000000000000000000000000000000000000000000000000000000000000000000000000000000000000000000000000000000000000000000000000000000000000000000000000000000000000000000000000000000000000000000000000000000000000000000000000000000000000000000000000000000000000000000000000000000000000000000000000000000000000000000000000000000000000000000000000000000000000000000000000000000000000000000000000000000000000000000000000000000000000000000000000000000000000000000000000000000000000000000000000000000000000000000000000000000000000000000000000000000000000000000000000000000000000000000000000000000000000000000000000000000000000000000000000000000000000000000000000000000000000000000000000000000000000000000000000000000000000000000000000000000000000000000000000000000000000000000000000000000000000000000000000000000000000000000000000000000000000000000000000000000000000000000000000000000000000000000000000000000000000000000000000000000000000000000000000000000000000000000000000000000000000000000000000000000000000000000000000000000000000000000000000000000000000000000000000000000000000000000000000000000000000000000000000000000000000000000000000000000000000000000000000000000000000000000000000000000000000000000000000000000000000000000000000000000000000000000000000000000000000000000000000000000000000000000000000000000000000000000000000000000000000000000000000000000000000000000000000000000000000000000000000000000000000000000000000000000000000000000000000000000000000000000000000000000000000000000000000000000000000000000000000000000000000000000000000000000000000000000000000000000000000000000000000000000000000000000000000000000000000000000000000000000000000000000000000000000000000000000000000000000000000000000000000000000000000000000000000000000000000000000000000000000000000000000000000000000000000000000000000000000000000000000000000000000000000000000000000000000000000000000000000000000000000000000000000000000000000000000000000000000000000000000000000000000000000000000000000000000000000000000000000000000000000000000000000000000000000000000000000000000000000000000000000000000000000000000000000000000000000000000000000000000000000000000000000000000000000000000000000000000000000000000000000000000000000000000000000000000000000000000000000000000000000000000000000000000000000000000000000000000000000000000000000000000000000000000000000000000000000000000000000000000000000000000000000000000000000000000000000000000000000000000000000000000000000000000000000000000000000000000000000000000000000000000000000000000000000000000000000000000000000000000000000000000000000000000000000000000000000000000000000000000000000000000000000000000000000000000000000000000000000000000000000000000000000000000000000000000000000000000000000000000000000000000000000000000000000000000000000000000000000000000000000000000000000000000000000000000000000000000000000000000000000000000000000000000000000000000000000000000000000000000000000000000000000000000000000000000000000000000000000000000000000000000000000000000000000000000000000000000000000000000000000000000000000000000000000000000000000000000000000000000000000000000000000000000000000000000000000000000000000000000000000000000000000000000000000000000000000000000000000000000000000000000000000000000000000000000000000000000000000000000000000000000000000000000000000000000000000000000000000000000000000000000000000000000000000000000000000000000000000000000000000000000000000000000000000000000000000000000000000000000000000000000000000000000000000000000000000000000000000000000000000000000000000000000000000000000000000000000000000000000000000000000000000000000000000000000000000000000000000000000000000000000000000000000000000000000000000000000000000000000000000000000000000000000000000000000000000000000000000000000000000000000000000000000000000000000000000000000000000000000000000000000000000000000000000000000000000000000000000000000000000000000000000000000000000000000000000000000000000000000000000000000000000000000000000000000000000000000000000000000000000000000000000000000000000000000000000000000000000000000000000000000000000000000000000000000000000000000000000000000000000000000000000000000000000000000000000000000000000000000000000000000000000000000000000000000000000000000000000000000000000000000000000000000000000000000000000000000000000000000000000000000000000000000000000000000000000000000000000000000000000000000000000000000000000000000000000000000000000000000000000000000000000000000000000000000000000000000000000000000000000000000000000000000000000000000000000000000000000000000000000000000000000000000000000000000000000000000000000000000000000000000000000000000000000000000000000000000000000000000000000000000000000000000000000000000000000000000000000000000000000000000000000000000000000000000000000000000000000000000000000000000000000000000000000000000000000000000000000000000000000000000000000000000000000000000000000000000000000000000000000000000000000000000000000000000000000000000000000000000000000000000000000000000000000000000000000000000000000000000000000000000000000000000000000000000000000000000000000000000000000000000000000000000000000000000000000000000000000000000000000000000000000000000000000000000000000000000000000000000000000000000000000000000000000000000000000000000000000000000000000000000000000000000000000000000000000000000000000000000000000000000000000000000000000000000000000000000000000000000000000000000000000000000000000000000000000000000000000000000000000000000000000000000000000000000000000000000000000000000000000000000000000000000000000000000000000000000000000000000000000000000000000000000000000000000000000000000000000000000000000000000000000000000000000000000000000000000000000000000000000000000000000000000000000000000000000000000000000000000000000000000000000000000000000000000000000000000000000000000000000000000000000000000000000000000000000000000000000000000000000000000000000000000000000000000000000000000000000000000000000000000000000000000000000000000000000000000000000000000000000000000000000000000000000000000000000000000000000000000000000000000000000000000000000000000000000000000000000000000000000000000000000000000000000000000000000000000000000000000000000000000000000000000000000000000000000000000000000000000000000000000000000000000000000000000000000000000000000000000000000000000000000000000000000001"
      ]
     },
     "execution_count": 30,
     "metadata": {},
     "output_type": "execute_result"
    }
   ],
   "source": [
    "i=10**10000\n",
    "i+=1 # python lacks i++, ++i, --i, i-- but it does have +=, -=, *=, /=\n",
    "i"
   ]
  },
  {
   "cell_type": "markdown",
   "metadata": {},
   "source": [
    "# float\n",
    "\n",
    "python float type is backed by a double (64 bit floating point) and do overflow. \n",
    "Converting a large int to a float will result in a OverflowError                             \n",
    "\n",
    "As of python3,python avoids confusing integer division and and int/another int will result in a float\n",
    "If you want integer division use //"
   ]
  },
  {
   "cell_type": "code",
   "execution_count": 34,
   "metadata": {},
   "outputs": [
    {
     "ename": "OverflowError",
     "evalue": "int too large to convert to float",
     "output_type": "error",
     "traceback": [
      "\u001b[1;31m---------------------------------------------------------------------------\u001b[0m",
      "\u001b[1;31mOverflowError\u001b[0m                             Traceback (most recent call last)",
      "\u001b[1;32m<ipython-input-34-fe5cf0b26fd5>\u001b[0m in \u001b[0;36m<module>\u001b[1;34m\u001b[0m\n\u001b[1;32m----> 1\u001b[1;33m \u001b[0mi\u001b[0m\u001b[1;33m+\u001b[0m\u001b[1;36m0.1\u001b[0m\u001b[1;33m\u001b[0m\u001b[0m\n\u001b[0m",
      "\u001b[1;31mOverflowError\u001b[0m: int too large to convert to float"
     ]
    }
   ],
   "source": [
    "i+0.1"
   ]
  },
  {
   "cell_type": "code",
   "execution_count": 35,
   "metadata": {},
   "outputs": [
    {
     "data": {
      "text/plain": [
       "(2, 2.3333333333333335)"
      ]
     },
     "execution_count": 35,
     "metadata": {},
     "output_type": "execute_result"
    }
   ],
   "source": [
    "(7//3, 7/3)"
   ]
  },
  {
   "cell_type": "markdown",
   "metadata": {},
   "source": [
    "# dict\n",
    "\n",
    "a python dict is a key-> value mapping\n",
    "\n",
    "they used to be unordered but since python 3.6/3.7 they are ordered in insertion order. \n",
    "\n",
    "This helps compatibility with certain json apis (even though ordered dictionary is not in the json spec), kwargs arguments (which are passed as a dict), other assumptions, etc.\n",
    "\n",
    "There is a collection.OrderedDict class that is now mostly pointless (dict still does key order unimportant equality comparison while OrderedDict cares about order when checking equality)\n",
    "\n",
    "since python objects involve so many dict lookups care is done to optimize this class."
   ]
  },
  {
   "cell_type": "code",
   "execution_count": 3,
   "metadata": {},
   "outputs": [
    {
     "data": {
      "text/plain": [
       "True"
      ]
     },
     "execution_count": 3,
     "metadata": {},
     "output_type": "execute_result"
    }
   ],
   "source": [
    "d1 = dict(a=1,b=2,c=3)\n",
    "d2 = {'a': 1, 'b': 2, 'c': 3}\n",
    "d1 == d2"
   ]
  },
  {
   "cell_type": "code",
   "execution_count": 4,
   "metadata": {},
   "outputs": [
    {
     "name": "stdout",
     "output_type": "stream",
     "text": [
      "a - 2\n",
      "b - 4\n",
      "c - 6\n"
     ]
    },
    {
     "data": {
      "text/plain": [
       "(dict_keys(['a', 'b', 'c']), dict_values([1, 2, 3]))"
      ]
     },
     "execution_count": 4,
     "metadata": {},
     "output_type": "execute_result"
    }
   ],
   "source": [
    "for k, v in dict(d1).items():\n",
    "    # you cant modify and iterate over a collection at the same time, not unlike many languages\n",
    "    # since in python you usually dont care about maximing speed copying the collection is an easy fix\n",
    "    d1[k] = v * 2\n",
    "    \n",
    "for k, v in d1.items():\n",
    "    # You can iterate over dict without copying if you dont modify it\n",
    "    print(f'{k} - {v}')\n",
    "    \n",
    "(d2.keys(), d2.values())"
   ]
  },
  {
   "cell_type": "code",
   "execution_count": 6,
   "metadata": {},
   "outputs": [
    {
     "data": {
      "text/plain": [
       "(111111, 'default value if key is missing')"
      ]
     },
     "execution_count": 6,
     "metadata": {},
     "output_type": "execute_result"
    }
   ],
   "source": [
    "d2 = {'a': 1, 'b': 2, 'c': 3}\n",
    "d2['a'] = 111111\n",
    "(d2['a'], d2.get('bb', 'default value if key is missing'), d2.pop)"
   ]
  },
  {
   "cell_type": "markdown",
   "metadata": {},
   "source": [
    "# set\n",
    "\n",
    "set is an abstraction for an unordered collection with no more then one of any element.\n",
    "\n",
    "if you need an immutable version of set to avoid mutation or use as a jey in a dict use frozenset"
   ]
  },
  {
   "cell_type": "code",
   "execution_count": 47,
   "metadata": {},
   "outputs": [
    {
     "data": {
      "text/plain": [
       "{'corey'}"
      ]
     },
     "execution_count": 47,
     "metadata": {},
     "output_type": "execute_result"
    }
   ],
   "source": [
    "students = set([\"abe\", \"ben\", \"corey\"])\n",
    "students2 = set([\"corey\", \"dale\", \"earl\"])\n",
    "\n",
    "(students.intersection(students2), )"
   ]
  },
  {
   "cell_type": "code",
   "execution_count": 48,
   "metadata": {},
   "outputs": [
    {
     "data": {
      "text/plain": [
       "{'abe', 'ben', 'corey', 'dale', 'earl'}"
      ]
     },
     "execution_count": 48,
     "metadata": {},
     "output_type": "execute_result"
    }
   ],
   "source": [
    "students.union(students2)"
   ]
  },
  {
   "cell_type": "markdown",
   "metadata": {},
   "source": [
    "# Path\n",
    "\n",
    "Path represents an abstract system path and allows taking parts of path and performing file system operations on it."
   ]
  },
  {
   "cell_type": "code",
   "execution_count": 59,
   "metadata": {},
   "outputs": [
    {
     "name": "stdout",
     "output_type": "stream",
     "text": [
      "d.is_dir(): True\n",
      "Path.home(): C:\\Users\\roma\n",
      "Path.home() / \"Documents\" / \"GPA\": C:\\Users\\roma\\Documents\\GPA\n"
     ]
    },
    {
     "data": {
      "text/plain": [
       "[WindowsPath('C:/Users/roma/Computer/ProgrammingAttempts/python/python_intro_notes/.git'),\n",
       " WindowsPath('C:/Users/roma/Computer/ProgrammingAttempts/python/python_intro_notes/.gitignore'),\n",
       " WindowsPath('C:/Users/roma/Computer/ProgrammingAttempts/python/python_intro_notes/.ipynb_checkpoints'),\n",
       " WindowsPath('C:/Users/roma/Computer/ProgrammingAttempts/python/python_intro_notes/001 - Intro to Python and basic types.ipynb'),\n",
       " WindowsPath('C:/Users/roma/Computer/ProgrammingAttempts/python/python_intro_notes/002 - python features.ipynb'),\n",
       " WindowsPath(\"C:/Users/roma/Computer/ProgrammingAttempts/python/python_intro_notes/003 - A partial exploration of Python's standard library (batteries included).ipynb\"),\n",
       " WindowsPath('C:/Users/roma/Computer/ProgrammingAttempts/python/python_intro_notes/004 - Some common and useful 3rd party libraries.ipynb'),\n",
       " WindowsPath('C:/Users/roma/Computer/ProgrammingAttempts/python/python_intro_notes/005 - Advanced features.ipynb'),\n",
       " WindowsPath('C:/Users/roma/Computer/ProgrammingAttempts/python/python_intro_notes/LICENSE'),\n",
       " WindowsPath('C:/Users/roma/Computer/ProgrammingAttempts/python/python_intro_notes/README.md'),\n",
       " WindowsPath('C:/Users/roma/Computer/ProgrammingAttempts/python/python_intro_notes/requirements.txt')]"
      ]
     },
     "execution_count": 59,
     "metadata": {},
     "output_type": "execute_result"
    }
   ],
   "source": [
    "from pathlib import Path\n",
    "\n",
    "# filesystem and process managment\n",
    "from pathlib import Path\n",
    "import os\n",
    "import shutil\n",
    "import tempfile\n",
    "# ipython doesn't defined __file__ but in a script it would be the path to the script\n",
    "# the resolve makes the path absolute resolving symlinks and '..' and parent chops off the last segment to get the directory\n",
    "# _dir = Path(__file__).resolve(strict=True).parent\n",
    "d = Path(Path.cwd()).resolve(strict=True)\n",
    "temp = tempfile.gettempdir()\n",
    "print(f'd.is_dir(): {d.is_dir()}')\n",
    "print(f'Path.home(): {Path.home()}')\n",
    "print(f'Path.home() / \"Documents\" / \"GPA\": {Path.home() / \"Documents\" / \"GPA\"}')\n",
    "list(d.iterdir())"
   ]
  },
  {
   "cell_type": "code",
   "execution_count": 60,
   "metadata": {},
   "outputs": [
    {
     "data": {
      "text/plain": [
       "[WindowsPath('C:/Users/roma/Computer/ProgrammingAttempts/python/python_intro_notes/001 - Intro to Python and basic types.ipynb'),\n",
       " WindowsPath('C:/Users/roma/Computer/ProgrammingAttempts/python/python_intro_notes/002 - python features.ipynb'),\n",
       " WindowsPath(\"C:/Users/roma/Computer/ProgrammingAttempts/python/python_intro_notes/003 - A partial exploration of Python's standard library (batteries included).ipynb\"),\n",
       " WindowsPath('C:/Users/roma/Computer/ProgrammingAttempts/python/python_intro_notes/004 - Some common and useful 3rd party libraries.ipynb'),\n",
       " WindowsPath('C:/Users/roma/Computer/ProgrammingAttempts/python/python_intro_notes/005 - Advanced features.ipynb')]"
      ]
     },
     "execution_count": 60,
     "metadata": {},
     "output_type": "execute_result"
    }
   ],
   "source": [
    "list(d.glob(\"*.ipynb\"))"
   ]
  },
  {
   "cell_type": "code",
   "execution_count": 65,
   "metadata": {},
   "outputs": [
    {
     "name": "stdout",
     "output_type": "stream",
     "text": [
      "temp_subdir.exists(): False\n",
      "temp_subdir.exists(): True\n",
      "temp_subdir.exists(): False\n"
     ]
    }
   ],
   "source": [
    "import shutil\n",
    "temp_subdir = d / 'bob_ross' / 'paintings'\n",
    "print(f'temp_subdir.exists(): {temp_subdir.exists()}')\n",
    "temp_subdir.mkdir(parents=True, exist_ok=True)\n",
    "print(f'temp_subdir.exists(): {temp_subdir.exists()}')\n",
    "shutil.rmtree(temp_subdir)\n",
    "print(f'temp_subdir.exists(): {temp_subdir.exists()}')\n"
   ]
  },
  {
   "cell_type": "markdown",
   "metadata": {},
   "source": [
    "# datetime and timedelta"
   ]
  },
  {
   "cell_type": "code",
   "execution_count": 30,
   "metadata": {},
   "outputs": [
    {
     "data": {
      "text/plain": [
       "datetime.datetime(2019, 2, 6, 1, 45, 37, 634859)"
      ]
     },
     "execution_count": 30,
     "metadata": {},
     "output_type": "execute_result"
    }
   ],
   "source": [
    "import datetime\n",
    "start_time = datetime.datetime.now()\n",
    "start_time"
   ]
  },
  {
   "cell_type": "code",
   "execution_count": 31,
   "metadata": {},
   "outputs": [
    {
     "data": {
      "text/plain": [
       "datetime.timedelta(0, 20, 876955)"
      ]
     },
     "execution_count": 31,
     "metadata": {},
     "output_type": "execute_result"
    }
   ],
   "source": [
    "end_time = datetime.datetime.now()\n",
    "time_diff = end_time - start_time\n",
    "time_diff"
   ]
  },
  {
   "cell_type": "code",
   "execution_count": 33,
   "metadata": {},
   "outputs": [],
   "source": [
    "if time_diff > datetime.timedelta(minutes=1, seconds=30):\n",
    "    print('its been a while')\n"
   ]
  },
  {
   "cell_type": "code",
   "execution_count": null,
   "metadata": {},
   "outputs": [],
   "source": []
  }
 ],
 "metadata": {
  "kernelspec": {
   "display_name": "Python 3",
   "language": "python",
   "name": "python3"
  },
  "language_info": {
   "codemirror_mode": {
    "name": "ipython",
    "version": 3
   },
   "file_extension": ".py",
   "mimetype": "text/x-python",
   "name": "python",
   "nbconvert_exporter": "python",
   "pygments_lexer": "ipython3",
   "version": "3.6.6"
  }
 },
 "nbformat": 4,
 "nbformat_minor": 2
}
