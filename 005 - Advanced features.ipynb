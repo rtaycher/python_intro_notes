{
 "cells": [
  {
   "cell_type": "markdown",
   "metadata": {},
   "source": [
    "# Advanced Descriptors\n",
    "\n",
    "See https://nbviewer.jupyter.org/gist/ChrisBeaumont/5758381/descriptor_writeup.ipynb"
   ]
  },
  {
   "cell_type": "markdown",
   "metadata": {},
   "source": [
    "# Advanced Metaclasses\n",
    "\n",
    "A class is just an object instance of a class. \n",
    "That second class is its metaclass.\n",
    "\n",
    "A metaclass can control the creation of a class and can be used for stuff like [making a singleton](https://stackoverflow.com/questions/31875/is-there-a-simple-elegant-way-to-define-singletons/33201#33201), registering \n",
    "\n",
    "Old video about metaclasses [PyCon PL 2013 \"Advanced Python through Django: Metaclasses\"](https://www.youtube.com/watch?v=fRJ08-sXHb4)\n",
    "\n",
    "Example of how to make an sql dsl with metaclass (python2 syntax) \n",
    "http://www.ianbicking.org/a-conservative-metaclass.html\n",
    "\n",
    "in python 3.6+ subclass registration can be acheieved more easil with\n",
    "```\n",
    "class BaseClass:\n",
    "    def __init_subclass__(cls, **kwargs):\n",
    "        if cls.__name__ not in registry:\n",
    "            registry[cls.__name__] = cls\n",
    "        super().__init_subclass__(**kwargs)\n",
    "```"
   ]
  },
  {
   "cell_type": "markdown",
   "metadata": {},
   "source": [
    "# Advanced Generators (including send)/ Coroutines"
   ]
  },
  {
   "cell_type": "markdown",
   "metadata": {},
   "source": [
    "# async Coroutines"
   ]
  },
  {
   "cell_type": "code",
   "execution_count": null,
   "metadata": {},
   "outputs": [],
   "source": []
  },
  {
   "cell_type": "code",
   "execution_count": null,
   "metadata": {},
   "outputs": [],
   "source": []
  }
 ],
 "metadata": {
  "kernelspec": {
   "display_name": "Python 3",
   "language": "python",
   "name": "python3"
  },
  "language_info": {
   "codemirror_mode": {
    "name": "ipython",
    "version": 3
   },
   "file_extension": ".py",
   "mimetype": "text/x-python",
   "name": "python",
   "nbconvert_exporter": "python",
   "pygments_lexer": "ipython3",
   "version": "3.6.6"
  }
 },
 "nbformat": 4,
 "nbformat_minor": 2
}
