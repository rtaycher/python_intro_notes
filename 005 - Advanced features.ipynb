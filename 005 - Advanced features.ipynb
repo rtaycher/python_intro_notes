{
 "cells": [
  {
   "cell_type": "markdown",
   "metadata": {},
   "source": [
    "# Some useful links about Advanced python topics"
   ]
  },
  {
   "cell_type": "markdown",
   "metadata": {},
   "source": [
    "# Advanced Descriptors (aka low level getter/setter like things)\n",
    "\n",
    "See https://nbviewer.jupyter.org/gist/ChrisBeaumont/5758381/descriptor_writeup.ipynb"
   ]
  },
  {
   "cell_type": "markdown",
   "metadata": {},
   "source": [
    "# Advanced Metaclasses\n",
    "\n",
    "A class is just an object instance of a class. \n",
    "That second class is its metaclass.\n",
    "\n",
    "A metaclass can control the creation of a class and can be used for stuff like \n",
    "* [making a singleton](https://stackoverflow.com/questions/31875/is-there-a-simple-elegant-way-to-define-singletons/33201#33201), \n",
    "* registering subclasses\n",
    "* adding abstract base class (`abc.ABCMeta` in stdlib) or interface functionality\n",
    "* Making DSL (Domain-specific languages)\n",
    "\n",
    "Old video about metaclasses [PyCon PL 2013 \"Advanced Python through Django: Metaclasses\"](https://www.youtube.com/watch?v=fRJ08-sXHb4)\n",
    "\n",
    "Example of how to make an sql dsl with metaclass (python2 syntax) \n",
    "http://www.ianbicking.org/a-conservative-metaclass.html\n",
    "\n",
    "in python 3.6+ subclass registration can be acheieved more easily with"
   ]
  },
  {
   "cell_type": "code",
   "execution_count": 4,
   "metadata": {},
   "outputs": [
    {
     "data": {
      "text/plain": [
       "{'A': __main__.A, 'B': __main__.B}"
      ]
     },
     "execution_count": 4,
     "metadata": {},
     "output_type": "execute_result"
    }
   ],
   "source": [
    "registry={}\n",
    "class BaseClass:\n",
    "    def __init_subclass__(cls, **kwargs):\n",
    "        if cls.__name__ not in registry:\n",
    "            registry[cls.__name__] = cls\n",
    "        super().__init_subclass__(**kwargs)\n",
    "class A(BaseClass):\n",
    "    pass\n",
    "class B(BaseClass):\n",
    "    pass\n",
    "registry"
   ]
  },
  {
   "cell_type": "markdown",
   "metadata": {},
   "source": [
    "# Advanced Generators with send aka Coroutines\n",
    "\n",
    "* https://eli.thegreenplace.net/2009/08/29/co-routines-as-an-alternative-to-state-machines\n",
    "* http://wla.berkeley.edu/~cs61a/fa11/lectures/streams.html#python-coroutines\n"
   ]
  },
  {
   "cell_type": "markdown",
   "metadata": {},
   "source": [
    "# async Coroutines\n",
    "\n",
    "Python uses generators for it's async/await system similar to C#'s\n",
    "\n",
    "* Official documentation  \n",
    "  https://docs.python.org/3/library/asyncio.html \n",
    "*  general async/await crticism, often referenced, not python specific  \n",
    "   http://journal.stuffwithstuff.com/2015/02/01/what-color-is-your-function/\n",
    "* Short intro https://hackernoon.com/a-simple-introduction-to-pythons-asyncio-595d9c9ecf8c\n",
    "* article from well known pythonista  \n",
    "  http://lucumr.pocoo.org/2016/10/30/i-dont-understand-asyncio/\n",
    "  \n",
    "  "
   ]
  }
 ],
 "metadata": {
  "kernelspec": {
   "display_name": "Python 3",
   "language": "python",
   "name": "python3"
  },
  "language_info": {
   "codemirror_mode": {
    "name": "ipython",
    "version": 3
   },
   "file_extension": ".py",
   "mimetype": "text/x-python",
   "name": "python",
   "nbconvert_exporter": "python",
   "pygments_lexer": "ipython3",
   "version": "3.6.6"
  }
 },
 "nbformat": 4,
 "nbformat_minor": 2
}
