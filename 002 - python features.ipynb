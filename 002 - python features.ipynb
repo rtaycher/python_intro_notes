{
 "cells": [
  {
   "cell_type": "markdown",
   "metadata": {},
   "source": [
    "# imports and main in a simple script\n"
   ]
  },
  {
   "cell_type": "code",
   "execution_count": 11,
   "metadata": {},
   "outputs": [
    {
     "name": "stdout",
     "output_type": "stream",
     "text": [
      "Hello World\n"
     ]
    }
   ],
   "source": [
    "import sys\n",
    "from os import path\n",
    "from json import * # star imports everything\n",
    "\n",
    "def main(argv):\n",
    "    \"\"\"main is totally arbitrary function name \n",
    "    but is traditional usually you parse ARGS here and decide what to run.\n",
    "    BTW this is a docstring, its how you document a python class/function/module.\n",
    "    DocStrings are available at runtime by running `help(obj)`\n",
    "    \"\"\"\n",
    "    print(\" \".join(argv))\n",
    "\n",
    "# __name__ is the name of the module or '__main__' inside the python file you're running\n",
    "# This if statement is incredibly common because it lets you run main only when the file is run\n",
    "# not when its imported and used as a library\n",
    "# You can even import and call a function you call main from another script, although I wouldn't recommend it\n",
    "if __name__ == '__main__':\n",
    "#     main(sys.argv)\n",
    "    main([\"Hello\", \"World\"])\n",
    "    "
   ]
  },
  {
   "cell_type": "markdown",
   "metadata": {},
   "source": [
    "# Arguments\n",
    "\n",
    "### Regular arguments\n",
    "\n",
    "In python regular aguments can be passed by position or keyword. \n",
    "Arguments passed by keyword can be in any order\n",
    "\n",
    "### *args and **kwargs"
   ]
  },
  {
   "cell_type": "code",
   "execution_count": 2,
   "metadata": {},
   "outputs": [
    {
     "name": "stdout",
     "output_type": "stream",
     "text": [
      "a: 1 b:2 c:3 d:4\n",
      "args: (5, 6) kwargs:{'q': 9, 'bb': 22}\n",
      "as expected keyword only argument can't be supplied by position\n",
      "arg: ARG\n",
      "scratch the dog\n",
      "scratch the cat\n",
      "['yo ho ho', 'barrel of moneys']\n",
      "bad 2nd\n",
      "['yo ho ho', 'barrel of moneys', 'yo ho ho', 'barrel of moneys']\n",
      "bad 3rd\n",
      "['yo ho ho', 'barrel of moneys', 'yo ho ho', 'barrel of moneys', 'yo ho ho', 'barrel of moneys']\n",
      "['yo ho ho', 'barrel of moneys']\n",
      "good 2nd\n",
      "['yo ho ho', 'barrel of moneys']\n",
      "good 3rd\n",
      "['yo ho ho', 'barrel of moneys']\n"
     ]
    }
   ],
   "source": [
    "# Python has regular args which can be \n",
    "# accessed by keyword or position\n",
    "# *args gathers up any extra positional args/supports variable # of args\n",
    "# **kwargs gathers up any extra positional args/supports variable # of args\n",
    "# Arguments after * (or *args) are keyword only args\n",
    "def a(a, b, c, *args, d, **kwargs):\n",
    "    print(f\"a: {a} b:{b} c:{c} d:{d}\")\n",
    "    print(f\"args: {args} kwargs:{kwargs}\")\n",
    "    \n",
    "def b(*, arg):\n",
    "    print(f\"arg: {arg}\")\n",
    "    \n",
    "def scratch_pet_belly(pet=\"dog\"):\n",
    "    print(f\"scratch the {pet}\")\n",
    "\n",
    "a(1, 2, 3, 5, 6, d=4, q=9,bb=22)\n",
    "try:\n",
    "    b('ARG')\n",
    "except TypeError:\n",
    "    print(f\"as expected keyword only argument can't be supplied by position\")\n",
    "\n",
    "b(arg='ARG')\n",
    "scratch_pet_belly()\n",
    "scratch_pet_belly(\"cat\")\n",
    "\n",
    "def get_intresting_phrases():\n",
    "    \"\"\"Pretend it's using rest apis\"\"\"\n",
    "    return [\"yo ho ho\", \"barrel of moneys\"]\n",
    "def bad_print_intresting_phrases(extra=[]):\n",
    "    extra += get_intresting_phrases()\n",
    "    return extra\n",
    "\n",
    "def good_print_intresting_phrases(extra=None):\n",
    "    if not extra:\n",
    "        extra = []\n",
    "    extra += get_intresting_phrases()\n",
    "    return extra\n",
    "        \n",
    "print(bad_print_intresting_phrases())\n",
    "print(\"bad 2nd\")\n",
    "print(bad_print_intresting_phrases())\n",
    "print(\"bad 3rd\")\n",
    "print(bad_print_intresting_phrases())\n",
    "\n",
    "\n",
    "print(good_print_intresting_phrases())\n",
    "print(\"good 2nd\")\n",
    "print(good_print_intresting_phrases())\n",
    "print(\"good 3rd\")\n",
    "print(good_print_intresting_phrases())"
   ]
  },
  {
   "cell_type": "markdown",
   "metadata": {},
   "source": [
    "# Higher order functions\n",
    "\n",
    "\n",
    "###Map vs Filter vs list comprehensions\n"
   ]
  },
  {
   "cell_type": "code",
   "execution_count": 5,
   "metadata": {},
   "outputs": [
    {
     "name": "stdout",
     "output_type": "stream",
     "text": [
      "yo ho ho\n",
      "42\n"
     ]
    }
   ],
   "source": [
    "def call_f1(f1):\n",
    "    f1()\n",
    "    \n",
    "def make_print_f2(f2):\n",
    "    def p():\n",
    "        print(f2())\n",
    "    return p\n",
    "call_f1(lambda:print(\"yo ho ho\"))\n",
    "call_f1(make_print_f2(lambda : 42))"
   ]
  },
  {
   "cell_type": "code",
   "execution_count": 6,
   "metadata": {},
   "outputs": [
    {
     "name": "stdout",
     "output_type": "stream",
     "text": [
      "[-0.1, 0.9, 1.9, 2.9, 3.9, 4.9, 5.9, 6.9, 7.9, 8.9]\n"
     ]
    }
   ],
   "source": [
    "print(list(map(lambda x:x-0.1, range(10))))\n"
   ]
  },
  {
   "cell_type": "markdown",
   "metadata": {},
   "source": [
    "# Decorators"
   ]
  },
  {
   "cell_type": "code",
   "execution_count": 7,
   "metadata": {},
   "outputs": [
    {
     "name": "stdout",
     "output_type": "stream",
     "text": [
      "dog\n",
      "======================\n",
      "calling cats with args: () and kwargs: {}\n",
      "dog\n",
      "======================\n",
      "calling cats with args: () and kwargs: {}\n",
      "dog\n",
      "======================\n",
      "calling cats with args: () and kwargs: {}\n",
      "dog\n"
     ]
    }
   ],
   "source": [
    "#decorators\n",
    "\n",
    "def log_decorator(f):\n",
    "    def wrapped_f(*args, **kwargs):\n",
    "        print(f'calling {f.__name__} with args: {args} and kwargs: {kwargs}')\n",
    "        return f(*args, **kwargs)\n",
    "    return wrapped_f\n",
    "\n",
    "def cats():\n",
    "    print('dog')\n",
    "\n",
    "cats() \n",
    "print('='*22)\n",
    "log_decorator(cats)()\n",
    "print('='*22)\n",
    "cats = log_decorator(cats)\n",
    "cats()\n",
    "print('='*22)\n",
    "\n",
    "#equivalent to cats = log_decorator(cats)\n",
    "@log_decorator\n",
    "def cats():\n",
    "    print('dog')\n",
    "cats()"
   ]
  },
  {
   "cell_type": "code",
   "execution_count": 8,
   "metadata": {},
   "outputs": [
    {
     "name": "stdout",
     "output_type": "stream",
     "text": [
      "calling cats_like_to_devide_by_zero\n",
      "dog\n",
      "catching exception type <class 'ZeroDivisionError'> in wrapped function cats_like_to_devide_by_zero\n",
      "calling cats_like_to_devide_by_zero\n",
      "dog\n",
      "catching exception type <class 'ZeroDivisionError'> in wrapped function cats_like_to_devide_by_zero\n"
     ]
    }
   ],
   "source": [
    "# A Decorator with 1 or more arguments is similar but with another layer\n",
    "def make_decorator_with_args(catch_exception_type):\n",
    "    def decorator(f):\n",
    "        def wrapped_f(*args, **kwargs):\n",
    "            print(f'calling {f.__name__}')\n",
    "            try:\n",
    "                return f(*args, **kwargs)\n",
    "            except catch_exception_type:\n",
    "                print(f'catching exception type {catch_exception_type} in wrapped function {f.__name__}')\n",
    "        return wrapped_f\n",
    "    return decorator\n",
    "\n",
    "def cats_like_to_devide_by_zero():\n",
    "    print('dog')\n",
    "    1/0\n",
    "\n",
    "cats_like_to_devide_by_zero = make_decorator_with_args(ZeroDivisionError)(cats_like_to_devide_by_zero)\n",
    "cats_like_to_devide_by_zero()\n",
    "\n",
    "# equivalent to \n",
    "# `cats_like_to_devide_by_zero = make_decorator_with_args(ZeroDivisionError)(cats_like_to_devide_by_zero)`\n",
    "\n",
    "@make_decorator_with_args(ZeroDivisionError)\n",
    "def cats_like_to_devide_by_zero():\n",
    "    print('dog')\n",
    "    1/0\n",
    "cats_like_to_devide_by_zero()"
   ]
  },
  {
   "cell_type": "code",
   "execution_count": 9,
   "metadata": {},
   "outputs": [
    {
     "name": "stdout",
     "output_type": "stream",
     "text": [
      "thing.thing is thing\n",
      "thing != thingy\n",
      "calling a with args: (<__main__.WithDecoratedMethodsClass object at 0x000001C335196828>,) and kwargs: {}\n",
      "self\n",
      "calling method b in class <class '__main__.WithDecoratedMethodsClass'> with args: () and kwargs: {}\n",
      "b\n",
      "calling staticmethod a\n",
      "calling classmethod b of cls: <class '__main__.NonInstanceMethodsClass'>\n"
     ]
    }
   ],
   "source": [
    "class A:\n",
    "    '''Most basic class'''\n",
    "    pass\n",
    "\n",
    "class Thing:\n",
    "    def __init__(self, thing):\n",
    "        '''__init__ is the constructor\n",
    "        pythons equivalent of this is passed explicitly, \n",
    "        its always named self but thats a convention not part of the language'''\n",
    "        # set thing field\n",
    "        self.thing = thing\n",
    "    def __eq__(self, other):\n",
    "        '''There are a number of other \n",
    "        double leading/trailing underscore methods in the language for special things\n",
    "        __eq__ implements == operator'''\n",
    "        return type(other) == type(self) and self.thing == other.thing\n",
    "    \n",
    "thing = Thing('thing')\n",
    "thingy = Thing('thingy') \n",
    "print(f'thing.thing is {thing.thing}')\n",
    "print(f'thing {\"==\" if thing == thingy else \"!=\"} thingy')\n",
    "\n",
    "def method_log_decorator(f):\n",
    "    def wrapped_f(self, *args, **kwargs):\n",
    "        self_type = type(self)\n",
    "        print(f'calling method {f.__name__} in class {self_type} with args: {args} and kwargs: {kwargs}')\n",
    "        return f(self, *args, **kwargs)\n",
    "    return wrapped_f\n",
    "\n",
    "def class_decorator_log_tests(cls):\n",
    "    pass\n",
    "\n",
    "\n",
    "class WithDecoratedMethodsClass:\n",
    "    @log_decorator\n",
    "    def a(self):\n",
    "        print('self')\n",
    "    @class_log_decorator\n",
    "    def b(self):\n",
    "        print('b')\n",
    "        \n",
    "class NonInstanceMethodsClass:\n",
    "    @staticmethod\n",
    "    def a():\n",
    "        print('calling staticmethod a')\n",
    "    @classmethod\n",
    "    def b(cls):\n",
    "        print(f'calling classmethod b of cls: {cls}')\n",
    "@class_decorator_log_tests\n",
    "class TL:\n",
    "    def test_a(self):\n",
    "        pass\n",
    "    def test_b(self):\n",
    "        pass\n",
    "    def c(self):\n",
    "        pass\n",
    "wdm = WithDecoratedMethodsClass()\n",
    "wdm.a()\n",
    "wdm.b()\n",
    "nim = NonInstanceMethodsClass()\n",
    "nim.a()\n",
    "nim.b()"
   ]
  },
  {
   "cell_type": "code",
   "execution_count": 4,
   "metadata": {},
   "outputs": [
    {
     "ename": "NameError",
     "evalue": "name 'A' is not defined",
     "output_type": "error",
     "traceback": [
      "\u001b[1;31m---------------------------------------------------------------------------\u001b[0m",
      "\u001b[1;31mNameError\u001b[0m                                 Traceback (most recent call last)",
      "\u001b[1;32m<ipython-input-4-c2746bb61ba2>\u001b[0m in \u001b[0;36m<module>\u001b[1;34m\u001b[0m\n\u001b[1;32m----> 1\u001b[1;33m \u001b[1;32mclass\u001b[0m \u001b[0mB\u001b[0m\u001b[1;33m(\u001b[0m\u001b[0mA\u001b[0m\u001b[1;33m)\u001b[0m\u001b[1;33m:\u001b[0m\u001b[1;33m\u001b[0m\u001b[0m\n\u001b[0m\u001b[0;32m      2\u001b[0m     \u001b[1;34m'''Inherits from A'''\u001b[0m\u001b[1;33m\u001b[0m\u001b[0m\n\u001b[0;32m      3\u001b[0m     \u001b[1;32mpass\u001b[0m\u001b[1;33m\u001b[0m\u001b[0m\n\u001b[0;32m      4\u001b[0m \u001b[1;32mclass\u001b[0m \u001b[0mBException\u001b[0m\u001b[1;33m(\u001b[0m\u001b[0mException\u001b[0m\u001b[1;33m)\u001b[0m\u001b[1;33m:\u001b[0m\u001b[1;33m\u001b[0m\u001b[0m\n\u001b[0;32m      5\u001b[0m     \u001b[1;34m'''Basic custom exception, just `raise BException(ctx)`'''\u001b[0m\u001b[1;33m\u001b[0m\u001b[0m\n",
      "\u001b[1;31mNameError\u001b[0m: name 'A' is not defined"
     ]
    }
   ],
   "source": [
    "class B(A):\n",
    "    '''Inherits from A'''\n",
    "    pass\n",
    "class BException(Exception):\n",
    "    '''Basic custom exception, just `raise BException(ctx)`'''\n",
    "    pass\n",
    "class A2:\n",
    "    def __init__(self, *args, **kwargs):\n",
    "        print(f\"args: {args}, kwargs:{kwargs}\")\n",
    "class C(A, A2):\n",
    "    '''python can do multiple inheritence but please dont'''\n",
    "    def __init__(self, *args, **kwargs):\n",
    "        print(\"In C.__init__\")\n",
    "        super().__init__(*args, **kwargs)\n",
    "C('q', 5)        "
   ]
  },
  {
   "cell_type": "code",
   "execution_count": 5,
   "metadata": {},
   "outputs": [
    {
     "ename": "NameError",
     "evalue": "name 'C' is not defined",
     "output_type": "error",
     "traceback": [
      "\u001b[1;31m---------------------------------------------------------------------------\u001b[0m",
      "\u001b[1;31mNameError\u001b[0m                                 Traceback (most recent call last)",
      "\u001b[1;32m<ipython-input-5-1b3efa6fc6bb>\u001b[0m in \u001b[0;36m<module>\u001b[1;34m\u001b[0m\n\u001b[0;32m     19\u001b[0m     \u001b[1;32mdef\u001b[0m \u001b[0mc\u001b[0m\u001b[1;33m(\u001b[0m\u001b[0mcls\u001b[0m\u001b[1;33m,\u001b[0m \u001b[0ma\u001b[0m\u001b[1;33m)\u001b[0m\u001b[1;33m:\u001b[0m\u001b[1;33m\u001b[0m\u001b[0m\n\u001b[0;32m     20\u001b[0m         \u001b[0mprint\u001b[0m\u001b[1;33m(\u001b[0m\u001b[1;34mf\"a is {a} in classmethod of cls: {cls}\"\u001b[0m\u001b[1;33m)\u001b[0m\u001b[1;33m\u001b[0m\u001b[0m\n\u001b[1;32m---> 21\u001b[1;33m \u001b[1;32mclass\u001b[0m \u001b[0mC2\u001b[0m\u001b[1;33m(\u001b[0m\u001b[0mC\u001b[0m\u001b[1;33m)\u001b[0m\u001b[1;33m:\u001b[0m\u001b[1;33m\u001b[0m\u001b[0m\n\u001b[0m\u001b[0;32m     22\u001b[0m     \u001b[1;32mpass\u001b[0m\u001b[1;33m\u001b[0m\u001b[0m\n\u001b[0;32m     23\u001b[0m \u001b[1;32mclass\u001b[0m \u001b[0mAC\u001b[0m\u001b[1;33m(\u001b[0m\u001b[0mA\u001b[0m\u001b[1;33m,\u001b[0m \u001b[0mC\u001b[0m\u001b[1;33m)\u001b[0m\u001b[1;33m:\u001b[0m\u001b[1;33m\u001b[0m\u001b[0m\n",
      "\u001b[1;31mNameError\u001b[0m: name 'C' is not defined"
     ]
    }
   ],
   "source": [
    "class P:\n",
    "    def __init__(self, z):\n",
    "        self.z = z\n",
    "        self._a = None\n",
    "        \n",
    "    def print_contents(self):\n",
    "        print(f\"z: {self.z}\")\n",
    "        \n",
    "    @property\n",
    "    def a(self):\n",
    "        return self._a\n",
    "    @a.setter\n",
    "    def a(self, value):\n",
    "        self._a = value\n",
    "    @staticmethod\n",
    "    def s(a):\n",
    "        print(f\"a is {a} in staticmethod\")\n",
    "    @classmethod\n",
    "    def c(cls, a):\n",
    "        print(f\"a is {a} in classmethod of cls: {cls}\")\n",
    "class C2(C):\n",
    "    pass\n",
    "class AC(A, C):\n",
    "    pass\n",
    "p = P(1)\n",
    "p.s('r')\n",
    "p.c('r')\n",
    "c2 = C2(2)\n",
    "c2.s('r')\n",
    "c2.c('r')\n",
    "c2.print_contents()\n",
    "\n",
    "print(f\"c.a: {c.a}\")\n",
    "c.a = 5\n",
    "print(f\"c.a: {c.a}\")"
   ]
  },
  {
   "cell_type": "code",
   "execution_count": null,
   "metadata": {},
   "outputs": [],
   "source": [
    "# abstract class\n",
    "\n",
    "import abc\n",
    "\n",
    "class Pet(metaclass=abc.ABCMeta):\n",
    "    @abc.abstractmethod\n",
    "    def bark(self):\n",
    "        pass\n",
    "    @property\n",
    "    @abc.abstractmethod\n",
    "    def paw_size(self):\n",
    "        pass\n",
    "    @paw_size.setter\n",
    "    @abc.abstractmethod\n",
    "    def paw_size(self, value):\n",
    "        pass\n",
    "    \n",
    "class Mamal(Pet):\n",
    "    pass\n",
    "try:\n",
    "    Mamal()\n",
    "except TypeError as ex:\n",
    "    print(f\"{ex.__class__.__name__}({ex})\")\n",
    "class Dog(Pet):\n",
    "    def __init__(self):\n",
    "        self._paw_size = None\n",
    "    def bark():\n",
    "        print('bark')\n",
    "    @property\n",
    "    def paw_size(self):\n",
    "        if self._paw_size is None:\n",
    "            return 5\n",
    "        else:\n",
    "            return self._paw_size\n",
    "    @paw_size.setter\n",
    "    def paw_size(self, value):\n",
    "        self._paw_size = value\n",
    "Dog().paw_size"
   ]
  },
  {
   "cell_type": "code",
   "execution_count": 1,
   "metadata": {},
   "outputs": [
    {
     "name": "stdout",
     "output_type": "stream",
     "text": [
      "numbers_genrator:<generator object numbers at 0x00000299F09A5678>\n",
      "next(numbers_genrator):0\n",
      "next(numbers_genrator):1\n",
      "next(numbers_genrator):2\n",
      "small_numbers_genrator:<generator object take at 0x00000299F09A5308>\n",
      "list(small_numbers_genrator):[0, 1, 2, 3, 4, 5, 6, 7, 8, 9, 10]\n",
      "sum(small_numbers_genrator):[]\n",
      "small cubes [x*x*x for x in small_numbers_genrator]:<generator object take at 0x00000299F09A5308>\n",
      "list(small_numbers_genrator):[]\n",
      "sum(small_numbers_genrator):[]\n"
     ]
    }
   ],
   "source": [
    "#Yield and Generators\n",
    "def numbers():\n",
    "    i = 0\n",
    "    while True:\n",
    "        yield i\n",
    "        i+=1\n",
    "        \n",
    "def take(iterable, x):\n",
    "    while x >= 0:\n",
    "        x-=1\n",
    "        yield next(iterable)\n",
    "    \n",
    "numbers_genrator = numbers()        \n",
    "print(f\"numbers_genrator:{numbers_genrator}\")\n",
    "print(f\"next(numbers_genrator):{next(numbers_genrator)}\")\n",
    "print(f\"next(numbers_genrator):{next(numbers_genrator)}\")\n",
    "print(f\"next(numbers_genrator):{next(numbers_genrator)}\")\n",
    "small_numbers_genrator = take(numbers(), 10)\n",
    "print(f\"small_numbers_genrator:{small_numbers_genrator}\")\n",
    "print(f\"list(small_numbers_genrator):{list(small_numbers_genrator)}\")\n",
    "print(f\"sum(small_numbers_genrator):{list(small_numbers_genrator)}\")\n",
    "small_numbers_genrator_cubed = (x*x*x for x in small_numbers_genrator)\n",
    "\n",
    "print(f\"small cubes [x*x*x for x in small_numbers_genrator]:{small_numbers_genrator}\")\n",
    "print(f\"list(small_numbers_genrator):{list(small_numbers_genrator)}\")\n",
    "print(f\"sum(small_numbers_genrator):{list(small_numbers_genrator)}\")"
   ]
  },
  {
   "cell_type": "markdown",
   "metadata": {},
   "source": [
    "# Context Manager\n"
   ]
  },
  {
   "cell_type": "code",
   "execution_count": 16,
   "metadata": {},
   "outputs": [
    {
     "name": "stdout",
     "output_type": "stream",
     "text": [
      "file contains: '{f.read()}'\n",
      "in enter\n",
      "I have FakeResource1\n",
      "in exit\n",
      "fake disposal of FakeResource1\n",
      "I have FakeResource2\n",
      "fake disposal of FakeResource2\n",
      "current dir 'C:\\Users\\roma\\Computer\\ProgrammingAttempts\\python\\python_intro_notes'\n",
      "current dir 'C:\\Users\\roma\\AppData\\Local\\Temp'\n",
      "current dir 'C:\\Users\\roma\\Computer\\ProgrammingAttempts\\python\\python_intro_notes'\n",
      "buf_stdout: \"abc\n",
      "def\n",
      "\"\n"
     ]
    }
   ],
   "source": [
    "import os, sys\n",
    "from pathlib import Path\n",
    "from contextlib import contextmanager, closing\n",
    "import io\n",
    "\n",
    "path = Path('scratch.should_be_deleted')\n",
    "try:\n",
    "    path.write_text('some nonsense')\n",
    "    with open(path) as f:\n",
    "        print(\"file contains: '{f.read()}'\")\n",
    "finally:\n",
    "    if path.exists():\n",
    "        path.unlink()\n",
    "\n",
    "class FakeResource1:\n",
    "    def __enter__(self):\n",
    "        print('in enter')\n",
    "    def __exit__(self, type, value, traceback):\n",
    "        print('in exit')\n",
    "        self.close()\n",
    "    def close(self):\n",
    "        print('fake disposal of FakeResource1')\n",
    "    \n",
    "class FakeResource2:\n",
    "    def close(self):\n",
    "        print('fake disposal of FakeResource2')\n",
    "\n",
    "with FakeResource1() as f1:\n",
    "    print('I have FakeResource1')\n",
    "    \n",
    "# Some resources especially older ones implement .close but not enter and exit\n",
    "# in that case\n",
    "with closing(FakeResource2()) as f2:\n",
    "    print('I have FakeResource2')\n",
    "@contextmanager\n",
    "def in_directory_ctx(directory):\n",
    "    old_dir = os.getcwd()\n",
    "    try:\n",
    "        os.chdir(directory)\n",
    "        yield\n",
    "    finally:\n",
    "        os.chdir(old_dir)\n",
    "\n",
    "@contextmanager\n",
    "def temporarily_reassign_stdout_stderr(stdout, stderr):\n",
    "    old_stdout, old_stderr = sys.stdout, sys.stderr\n",
    "    try:\n",
    "        sys.stdout, sys.stderr = stdout, stderr\n",
    "        yield\n",
    "    finally:\n",
    "        sys.stdout, sys.stderr = old_stdout, old_stderr\n",
    "        \n",
    "import tempfile\n",
    "print(f\"current dir '{os.getcwd()}'\")\n",
    "with in_directory_ctx(tempfile.gettempdir()):\n",
    "    print(f\"current dir '{os.getcwd()}'\")\n",
    "print(f\"current dir '{os.getcwd()}'\")\n",
    "\n",
    "buf_stdout = io.StringIO()\n",
    "buf_stderr = io.StringIO()\n",
    "\n",
    "with temporarily_reassign_stdout_stderr(buf_stdout, buf_stderr):\n",
    "    print('abc')\n",
    "    print('def')\n",
    "\n",
    "    \n",
    "print(f'buf_stdout: \"{buf_stdout.getvalue()}\"')"
   ]
  },
  {
   "cell_type": "code",
   "execution_count": null,
   "metadata": {},
   "outputs": [],
   "source": []
  }
 ],
 "metadata": {
  "kernelspec": {
   "display_name": "Python 3",
   "language": "python",
   "name": "python3"
  },
  "language_info": {
   "codemirror_mode": {
    "name": "ipython",
    "version": 3
   },
   "file_extension": ".py",
   "mimetype": "text/x-python",
   "name": "python",
   "nbconvert_exporter": "python",
   "pygments_lexer": "ipython3",
   "version": "3.6.6"
  }
 },
 "nbformat": 4,
 "nbformat_minor": 2
}
