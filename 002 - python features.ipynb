{
 "cells": [
  {
   "cell_type": "markdown",
   "metadata": {},
   "source": [
    "# imports and main in a simple script\n"
   ]
  },
  {
   "cell_type": "code",
   "execution_count": 11,
   "metadata": {},
   "outputs": [
    {
     "name": "stdout",
     "output_type": "stream",
     "text": [
      "Hello World\n"
     ]
    }
   ],
   "source": [
    "import sys\n",
    "from os import path # import only part of someting\n",
    "import cjson as json # change name of import\n",
    "from json import * # star imports everything\n",
    "\n",
    "def main(argv):\n",
    "    \"\"\"main is totally arbitrary function name \n",
    "    but is traditional usually you parse ARGS here and decide what to run.\n",
    "    BTW this is a docstring, its how you document a python class/function/module.\n",
    "    DocStrings are available at runtime by running `help(obj)`\n",
    "    \"\"\"\n",
    "    print(\" \".join(argv))\n",
    "\n",
    "# __name__ is the name of the module or '__main__' inside the python file you're running\n",
    "# This if statement is incredibly common because it lets you run main only when the file is run\n",
    "# not when its imported and used as a library\n",
    "# You can even import and call a function you call main from another script, although I wouldn't recommend it\n",
    "if __name__ == '__main__':\n",
    "#     main(sys.argv)\n",
    "    main([\"Hello\", \"World\"])\n",
    "    "
   ]
  },
  {
   "cell_type": "markdown",
   "metadata": {},
   "source": [
    "# Arguments\n",
    "\n",
    "### Regular arguments\n",
    "\n",
    "In python regular aguments can be passed by position or keyword. \n",
    "Arguments passed by keyword can be in any order\n",
    "\n",
    "### *args and **kwargs"
   ]
  },
  {
   "cell_type": "code",
   "execution_count": 2,
   "metadata": {},
   "outputs": [
    {
     "name": "stdout",
     "output_type": "stream",
     "text": [
      "a: 1 b:2 c:3 d:4\n",
      "args: (5, 6) kwargs:{'q': 9, 'bb': 22}\n",
      "as expected keyword only argument can't be supplied by position\n",
      "arg: ARG\n",
      "scratch the dog\n",
      "scratch the cat\n",
      "['yo ho ho', 'barrel of moneys']\n",
      "bad 2nd\n",
      "['yo ho ho', 'barrel of moneys', 'yo ho ho', 'barrel of moneys']\n",
      "bad 3rd\n",
      "['yo ho ho', 'barrel of moneys', 'yo ho ho', 'barrel of moneys', 'yo ho ho', 'barrel of moneys']\n",
      "['yo ho ho', 'barrel of moneys']\n",
      "good 2nd\n",
      "['yo ho ho', 'barrel of moneys']\n",
      "good 3rd\n",
      "['yo ho ho', 'barrel of moneys']\n"
     ]
    }
   ],
   "source": [
    "# Python has regular args which can be \n",
    "# accessed by keyword or position\n",
    "# *args gathers up any extra positional args/supports variable # of args\n",
    "# **kwargs gathers up any extra positional args/supports variable # of args\n",
    "# Arguments after * (or *args) are keyword only args\n",
    "def a(a, b, c, *args, d, **kwargs):\n",
    "    print(f\"a: {a} b:{b} c:{c} d:{d}\")\n",
    "    print(f\"args: {args} kwargs:{kwargs}\")\n",
    "    \n",
    "def b(*, arg):\n",
    "    print(f\"arg: {arg}\")\n",
    "    \n",
    "def scratch_pet_belly(pet=\"dog\"):\n",
    "    print(f\"scratch the {pet}\")\n",
    "\n",
    "a(1, 2, 3, 5, 6, d=4, q=9,bb=22)\n",
    "try:\n",
    "    b('ARG')\n",
    "except TypeError:\n",
    "    print(f\"as expected keyword only argument can't be supplied by position\")\n",
    "\n",
    "b(arg='ARG')\n",
    "scratch_pet_belly()\n",
    "scratch_pet_belly(\"cat\")\n",
    "\n",
    "def get_intresting_phrases():\n",
    "    \"\"\"Pretend it's using rest apis\"\"\"\n",
    "    return [\"yo ho ho\", \"barrel of moneys\"]\n",
    "def bad_print_intresting_phrases(extra=[]):\n",
    "    extra += get_intresting_phrases()\n",
    "    return extra\n",
    "\n",
    "def good_print_intresting_phrases(extra=None):\n",
    "    if not extra:\n",
    "        extra = []\n",
    "    extra += get_intresting_phrases()\n",
    "    return extra\n",
    "        \n",
    "print(bad_print_intresting_phrases())\n",
    "print(\"bad 2nd\")\n",
    "print(bad_print_intresting_phrases())\n",
    "print(\"bad 3rd\")\n",
    "print(bad_print_intresting_phrases())\n",
    "\n",
    "\n",
    "print(good_print_intresting_phrases())\n",
    "print(\"good 2nd\")\n",
    "print(good_print_intresting_phrases())\n",
    "print(\"good 3rd\")\n",
    "print(good_print_intresting_phrases())"
   ]
  },
  {
   "cell_type": "markdown",
   "metadata": {},
   "source": [
    "# Higher order functions\n",
    "\n",
    "\n",
    "###Map vs Filter vs list comprehensions\n"
   ]
  },
  {
   "cell_type": "code",
   "execution_count": 5,
   "metadata": {},
   "outputs": [
    {
     "name": "stdout",
     "output_type": "stream",
     "text": [
      "yo ho ho\n",
      "42\n"
     ]
    }
   ],
   "source": [
    "def call_f1(f1):\n",
    "    f1()\n",
    "    \n",
    "def make_print_f2(f2):\n",
    "    def p():\n",
    "        print(f2())\n",
    "    return p\n",
    "call_f1(lambda:print(\"yo ho ho\"))\n",
    "call_f1(make_print_f2(lambda : 42))"
   ]
  },
  {
   "cell_type": "code",
   "execution_count": 37,
   "metadata": {},
   "outputs": [
    {
     "name": "stdout",
     "output_type": "stream",
     "text": [
      "[0.9, 2.9, 4.9, 6.9, 8.9]\n"
     ]
    },
    {
     "data": {
      "text/plain": [
       "[0.9, 2.9, 4.9, 6.9, 8.9]"
      ]
     },
     "execution_count": 37,
     "metadata": {},
     "output_type": "execute_result"
    }
   ],
   "source": [
    "print(list(map(lambda x:x-0.1, filter(lambda x: x%2 == 1, range(10)))))\n",
    "[x-0.1 for x in range(10) if x %2 == 1]"
   ]
  },
  {
   "cell_type": "markdown",
   "metadata": {},
   "source": [
    "# Decorators\n",
    "\n",
    "A decorator is simple a function that wraps another function(or class) plus a bit of syntax sugar\n",
    "```python\n",
    "@time_function\n",
    "def a():\n",
    "  ...\n",
    "```\n",
    "is equivalent to \n",
    "\n",
    "`a=time_function(a)`"
   ]
  },
  {
   "cell_type": "code",
   "execution_count": 46,
   "metadata": {},
   "outputs": [
    {
     "ename": "SyntaxError",
     "evalue": "invalid syntax (<ipython-input-46-2627c306670f>, line 3)",
     "output_type": "error",
     "traceback": [
      "\u001b[1;36m  File \u001b[1;32m\"<ipython-input-46-2627c306670f>\"\u001b[1;36m, line \u001b[1;32m3\u001b[0m\n\u001b[1;33m    @functools.wraps(f):\u001b[0m\n\u001b[1;37m                       ^\u001b[0m\n\u001b[1;31mSyntaxError\u001b[0m\u001b[1;31m:\u001b[0m invalid syntax\n"
     ]
    }
   ],
   "source": [
    "import functools\n",
    "def log_decorator(f):\n",
    "    @functools.wraps(f):\n",
    "    def wrapped_f(*args, **kwargs):\n",
    "        print(f'calling {f.__name__} with args: {args} and kwargs: {kwargs}')\n",
    "        return f(*args, **kwargs)\n",
    "    return wrapped_f\n",
    "\n",
    "def cats():\n",
    "    print('dog')\n",
    "\n",
    "cats() \n",
    "print('='*22)\n",
    "log_decorator(cats)()\n",
    "print('='*22)\n",
    "cats = log_decorator(cats)\n",
    "cats()\n",
    "print('='*22)\n",
    "\n",
    "@log_decorator\n",
    "def cats():\n",
    "    print('dog')\n",
    "cats()"
   ]
  },
  {
   "cell_type": "code",
   "execution_count": 47,
   "metadata": {},
   "outputs": [
    {
     "name": "stdout",
     "output_type": "stream",
     "text": [
      "calling cats_like_to_devide_by_zero\n",
      "dog\n",
      "catching exception type <class 'ZeroDivisionError'> in wrapped function cats_like_to_devide_by_zero\n",
      "calling cats_like_to_devide_by_zero\n",
      "dog\n",
      "catching exception type <class 'ZeroDivisionError'> in wrapped function cats_like_to_devide_by_zero\n"
     ]
    }
   ],
   "source": [
    "# A Decorator with 1 or more arguments is similar but with another layer\n",
    "def make_decorator_with_args(catch_exception_type):\n",
    "    def decorator(f):\n",
    "        def wrapped_f(*args, **kwargs):\n",
    "            print(f'calling {f.__name__}')\n",
    "            try:\n",
    "                return f(*args, **kwargs)\n",
    "            except catch_exception_type:\n",
    "                print(f'catching exception type {catch_exception_type} in wrapped function {f.__name__}')\n",
    "        return wrapped_f\n",
    "    return decorator\n",
    "\n",
    "def cats_like_to_devide_by_zero():\n",
    "    print('dog')\n",
    "    1/0\n",
    "\n",
    "cats_like_to_devide_by_zero = make_decorator_with_args(ZeroDivisionError)(cats_like_to_devide_by_zero)\n",
    "cats_like_to_devide_by_zero()\n",
    "\n",
    "# equivalent to \n",
    "# `cats_like_to_devide_by_zero = make_decorator_with_args(ZeroDivisionError)(cats_like_to_devide_by_zero)`\n",
    "\n",
    "@make_decorator_with_args(ZeroDivisionError)\n",
    "def cats_like_to_devide_by_zero():\n",
    "    print('dog')\n",
    "    1/0\n",
    "cats_like_to_devide_by_zero()"
   ]
  },
  {
   "cell_type": "code",
   "execution_count": 49,
   "metadata": {},
   "outputs": [
    {
     "name": "stdout",
     "output_type": "stream",
     "text": [
      "In C.__init__\n",
      "args: ('q', 5), kwargs:{}\n",
      "thing.thing is thing\n",
      "thing != thingy\n",
      "calling a with args: (<__main__.WithDecoratedMethodsClass object at 0x00000299F338EE10>,) and kwargs: {}\n",
      "self\n",
      "calling method b in class <class '__main__.WithDecoratedMethodsClass'> with args: () and kwargs: {}\n",
      "b\n",
      "calling staticmethod a\n",
      "calling classmethod b of cls: <class '__main__.NonInstanceMethodsClass'>\n"
     ]
    }
   ],
   "source": [
    "import functools\n",
    "class A:\n",
    "    '''Most basic class'''\n",
    "    pass\n",
    "\n",
    "class Thing:\n",
    "    def __init__(self, thing):\n",
    "        '''__init__ is the constructor\n",
    "        pythons equivalent of this is passed explicitly, \n",
    "        its always named self but thats a convention not part of the language'''\n",
    "        # set thing field\n",
    "        self.thing = thing\n",
    "    def __eq__(self, other):\n",
    "        '''There are a number of other \n",
    "        double leading/trailing underscore methods in the language for special things\n",
    "        __eq__ implements == operator'''\n",
    "        return type(other) == type(self) and self.thing == other.thing\n",
    "class B(A):\n",
    "    '''Inherits from A'''\n",
    "    pass\n",
    "class BException(Exception):\n",
    "    '''Basic custom exception, just `raise BException(ctx)`'''\n",
    "    pass\n",
    "class A2:\n",
    "    def __init__(self, *args, **kwargs):\n",
    "        print(f\"args: {args}, kwargs:{kwargs}\")\n",
    "class C(A, A2):\n",
    "    '''python can do multiple inheritence but please dont'''\n",
    "    def __init__(self, *args, **kwargs):\n",
    "        print(\"In C.__init__\")\n",
    "        super().__init__(*args, **kwargs)\n",
    "C('q', 5)        \n",
    "thing = Thing('thing')\n",
    "thingy = Thing('thingy') \n",
    "print(f'thing.thing is {thing.thing}')\n",
    "print(f'thing {\"==\" if thing == thingy else \"!=\"} thingy')\n",
    "\n",
    "def method_log_decorator(f):\n",
    "    @functools.wraps(f)\n",
    "    def wrapped_f(self, *args, **kwargs):\n",
    "        self_type = type(self)\n",
    "        print(f'calling method {f.__name__} in class {self_type} with args: {args} and kwargs: {kwargs}')\n",
    "        return f(self, *args, **kwargs)\n",
    "    return wrapped_f\n",
    "\n",
    "\n",
    "class WithDecoratedMethodsClass:\n",
    "    @log_decorator\n",
    "    def a(self):\n",
    "        print('self')\n",
    "    @method_log_decorator\n",
    "    def b(self):\n",
    "        print('b')\n",
    "        \n",
    "class NonInstanceMethodsClass:\n",
    "    @staticmethod\n",
    "    def a():\n",
    "        print('calling staticmethod a')\n",
    "    @classmethod\n",
    "    def b(cls):\n",
    "        print(f'calling classmethod b of cls: {cls}')\n",
    "@class_decorator_log_tests\n",
    "class TL:\n",
    "    def test_a(self):\n",
    "        pass\n",
    "    def test_b(self):\n",
    "        pass\n",
    "    def c(self):\n",
    "        pass\n",
    "wdm = WithDecoratedMethodsClass()\n",
    "wdm.a()\n",
    "wdm.b()\n",
    "nim = NonInstanceMethodsClass()\n",
    "nim.a()\n",
    "nim.b()"
   ]
  },
  {
   "cell_type": "code",
   "execution_count": 61,
   "metadata": {},
   "outputs": [
    {
     "name": "stdout",
     "output_type": "stream",
     "text": [
      "a\n",
      "test test_a took 0:00:00.001062 to run\n",
      "b\n",
      "test test_b took 0:00:00 to run\n",
      "c\n"
     ]
    }
   ],
   "source": [
    "import datetime\n",
    "def class_decorator_log_tests(cls):\n",
    "    for k,v in vars(cls).items():\n",
    "        if k.startswith('test_') and callable(v):\n",
    "            def make_wrapper(f):\n",
    "                def wrapper(*args, **kwargs):\n",
    "                    start_time = datetime.datetime.now()\n",
    "                    try:\n",
    "                        return f(*args, **kwargs)\n",
    "                    finally:\n",
    "                        end_time = datetime.datetime.now()\n",
    "                        print(f'test {f.__name__} took {end_time-start_time} to run')\n",
    "                return wrapper\n",
    "            setattr(cls, k, make_wrapper(v))\n",
    "    return cls\n",
    "@class_decorator_log_tests\n",
    "class LT:\n",
    "    def test_a(self):\n",
    "        print('a')\n",
    "    def test_b(self):\n",
    "        print('b')\n",
    "    def c(self):\n",
    "        print('c')\n",
    "lt=LT()\n",
    "lt.test_a()\n",
    "lt.test_b()\n",
    "lt.c()"
   ]
  },
  {
   "cell_type": "code",
   "execution_count": 62,
   "metadata": {},
   "outputs": [
    {
     "name": "stdout",
     "output_type": "stream",
     "text": [
      "a is r in staticmethod\n",
      "a is r in classmethod of cls: <class '__main__.P'>\n",
      "a is r in staticmethod\n",
      "a is r in classmethod of cls: <class '__main__.P2'>\n",
      "z: 2\n",
      "p.a: None\n",
      "p.a: 5\n"
     ]
    }
   ],
   "source": [
    "class P:\n",
    "    def __init__(self, z):\n",
    "        self.z = z\n",
    "        self._a = None\n",
    "        \n",
    "    def print_contents(self):\n",
    "        print(f\"z: {self.z}\")\n",
    "        \n",
    "    @property\n",
    "    def a(self):\n",
    "        return self._a\n",
    "    @a.setter\n",
    "    def a(self, value):\n",
    "        self._a = value\n",
    "    @staticmethod\n",
    "    def s(a):\n",
    "        print(f\"a is {a} in staticmethod\")\n",
    "    @classmethod\n",
    "    def c(cls, a):\n",
    "        print(f\"a is {a} in classmethod of cls: {cls}\")\n",
    "class P2(P):\n",
    "    pass\n",
    "class AP(A, P):\n",
    "    pass\n",
    "p = P(1)\n",
    "p.s('r')\n",
    "p.c('r')\n",
    "p2 = P2(2)\n",
    "p2.s('r')\n",
    "p2.c('r')\n",
    "p2.print_contents()\n",
    "\n",
    "print(f\"p.a: {p.a}\")\n",
    "p.a = 5\n",
    "print(f\"p.a: {p.a}\")"
   ]
  },
  {
   "cell_type": "code",
   "execution_count": 63,
   "metadata": {},
   "outputs": [
    {
     "name": "stdout",
     "output_type": "stream",
     "text": [
      "TypeError(Can't instantiate abstract class Mamal with abstract methods bark, paw_size)\n"
     ]
    },
    {
     "data": {
      "text/plain": [
       "5"
      ]
     },
     "execution_count": 63,
     "metadata": {},
     "output_type": "execute_result"
    }
   ],
   "source": [
    "# a class is an instance object of a metaclass type, by default the metaclass is `type`\n",
    "# the most common use of metaclasses is the abstract class metaclass\n",
    "# for most other uses you can find a simpler abstraction like class decorators\n",
    "\n",
    "import abc\n",
    "\n",
    "class Pet(metaclass=abc.ABCMeta):\n",
    "    @abc.abstractmethod\n",
    "    def bark(self):\n",
    "        pass\n",
    "    @property\n",
    "    @abc.abstractmethod\n",
    "    def paw_size(self):\n",
    "        pass\n",
    "    @paw_size.setter\n",
    "    @abc.abstractmethod\n",
    "    def paw_size(self, value):\n",
    "        pass\n",
    "    \n",
    "class Mamal(Pet):\n",
    "    pass\n",
    "try:\n",
    "    Mamal()\n",
    "except TypeError as ex:\n",
    "    print(f\"{ex.__class__.__name__}({ex})\")\n",
    "class Dog(Pet):\n",
    "    def __init__(self):\n",
    "        self._paw_size = None\n",
    "    def bark():\n",
    "        print('bark')\n",
    "    @property\n",
    "    def paw_size(self):\n",
    "        if self._paw_size is None:\n",
    "            return 5\n",
    "        else:\n",
    "            return self._paw_size\n",
    "    @paw_size.setter\n",
    "    def paw_size(self, value):\n",
    "        self._paw_size = value\n",
    "Dog().paw_size"
   ]
  },
  {
   "cell_type": "code",
   "execution_count": 64,
   "metadata": {},
   "outputs": [
    {
     "name": "stdout",
     "output_type": "stream",
     "text": [
      "numbers_genrator:<generator object numbers at 0x00000299F3D44F10>\n",
      "next(numbers_genrator):0\n",
      "next(numbers_genrator):1\n",
      "next(numbers_genrator):2\n",
      "small_numbers_genrator:<generator object take at 0x00000299F0B2C888>\n",
      "list(take(numbers(), 10)):[0, 1, 2, 3, 4, 5, 6, 7, 8, 9, 10]\n",
      "sum(small_numbers_genrator):55\n",
      "small cubes :[]\n",
      "sum(e*3 for e in take(numbers(), 10)):165\n"
     ]
    }
   ],
   "source": [
    "#Yield and Generators\n",
    "def numbers():\n",
    "    i = 0\n",
    "    while True:\n",
    "        yield i\n",
    "        i+=1\n",
    "        \n",
    "def take(iterable, x):\n",
    "    while x >= 0:\n",
    "        x-=1\n",
    "        yield next(iterable)\n",
    "    \n",
    "numbers_genrator = numbers()        \n",
    "print(f\"numbers_genrator:{numbers_genrator}\")\n",
    "print(f\"next(numbers_genrator):{next(numbers_genrator)}\")\n",
    "print(f\"next(numbers_genrator):{next(numbers_genrator)}\")\n",
    "print(f\"next(numbers_genrator):{next(numbers_genrator)}\")\n",
    "\n",
    "small_numbers_genrator = take(numbers(), 10)\n",
    "print(f\"small_numbers_genrator:{small_numbers_genrator}\")\n",
    "print(f\"list(take(numbers(), 10)):{list(take(numbers(), 10))}\")\n",
    "print(f\"sum(small_numbers_genrator):{sum(small_numbers_genrator)}\")\n",
    "small_numbers_genrator_cubed = (x*x*x for x in small_numbers_genrator)\n",
    "\n",
    "print(f\"small cubes :{list(small_numbers_genrator_cubed)}\")\n",
    "print(f\"sum(e*3 for e in take(numbers(), 10)):{sum(e*3 for e in take(numbers(), 10))}\")"
   ]
  },
  {
   "cell_type": "markdown",
   "metadata": {},
   "source": [
    "# Context Manager\n"
   ]
  },
  {
   "cell_type": "code",
   "execution_count": 65,
   "metadata": {},
   "outputs": [
    {
     "name": "stdout",
     "output_type": "stream",
     "text": [
      "file contains: '{f.read()}'\n",
      "in enter\n",
      "I have FakeResource1\n",
      "in exit\n",
      "fake disposal of FakeResource1\n",
      "I have FakeResource2\n",
      "fake disposal of FakeResource2\n",
      "current dir 'C:\\Users\\roma\\Computer\\ProgrammingAttempts\\python\\python_intro_notes'\n",
      "current dir 'C:\\Users\\roma\\AppData\\Local\\Temp'\n",
      "current dir 'C:\\Users\\roma\\Computer\\ProgrammingAttempts\\python\\python_intro_notes'\n",
      "buf_stdout: \"abc\n",
      "def\n",
      "\"\n"
     ]
    }
   ],
   "source": [
    "import os, sys\n",
    "from pathlib import Path\n",
    "from contextlib import contextmanager, closing\n",
    "import io\n",
    "\n",
    "path = Path('scratch.should_be_deleted')\n",
    "try:\n",
    "    path.write_text('some nonsense')\n",
    "    with open(path) as f:\n",
    "        print(\"file contains: '{f.read()}'\")\n",
    "finally:\n",
    "    if path.exists():\n",
    "        path.unlink()\n",
    "\n",
    "class FakeResource1:\n",
    "    def __enter__(self):\n",
    "        print('in enter')\n",
    "    def __exit__(self, type, value, traceback):\n",
    "        print('in exit')\n",
    "        self.close()\n",
    "    def close(self):\n",
    "        print('fake disposal of FakeResource1')\n",
    "    \n",
    "class FakeResource2:\n",
    "    def close(self):\n",
    "        print('fake disposal of FakeResource2')\n",
    "\n",
    "with FakeResource1() as f1:\n",
    "    print('I have FakeResource1')\n",
    "    \n",
    "# Some resources especially older ones implement .close but not enter and exit\n",
    "# in that case\n",
    "with closing(FakeResource2()) as f2:\n",
    "    print('I have FakeResource2')\n",
    "@contextmanager\n",
    "def in_directory_ctx(directory):\n",
    "    old_dir = os.getcwd()\n",
    "    try:\n",
    "        os.chdir(directory)\n",
    "        yield\n",
    "    finally:\n",
    "        os.chdir(old_dir)\n",
    "\n",
    "@contextmanager\n",
    "def temporarily_reassign_stdout_stderr(stdout, stderr):\n",
    "    old_stdout, old_stderr = sys.stdout, sys.stderr\n",
    "    try:\n",
    "        sys.stdout, sys.stderr = stdout, stderr\n",
    "        yield\n",
    "    finally:\n",
    "        sys.stdout, sys.stderr = old_stdout, old_stderr\n",
    "        \n",
    "import tempfile\n",
    "print(f\"current dir '{os.getcwd()}'\")\n",
    "with in_directory_ctx(tempfile.gettempdir()):\n",
    "    print(f\"current dir '{os.getcwd()}'\")\n",
    "print(f\"current dir '{os.getcwd()}'\")\n",
    "\n",
    "buf_stdout = io.StringIO()\n",
    "buf_stderr = io.StringIO()\n",
    "\n",
    "with temporarily_reassign_stdout_stderr(buf_stdout, buf_stderr):\n",
    "    print('abc')\n",
    "    print('def')\n",
    "\n",
    "    \n",
    "print(f'buf_stdout: \"{buf_stdout.getvalue()}\"')"
   ]
  }
 ],
 "metadata": {
  "kernelspec": {
   "display_name": "Python 3",
   "language": "python",
   "name": "python3"
  },
  "language_info": {
   "codemirror_mode": {
    "name": "ipython",
    "version": 3
   },
   "file_extension": ".py",
   "mimetype": "text/x-python",
   "name": "python",
   "nbconvert_exporter": "python",
   "pygments_lexer": "ipython3",
   "version": "3.6.6"
  }
 },
 "nbformat": 4,
 "nbformat_minor": 2
}
