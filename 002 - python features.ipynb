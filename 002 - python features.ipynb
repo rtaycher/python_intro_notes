{
 "cells": [
  {
   "cell_type": "markdown",
   "metadata": {},
   "source": [
    "# main in a simple script\n"
   ]
  },
  {
   "cell_type": "code",
   "execution_count": 1,
   "metadata": {},
   "outputs": [
    {
     "name": "stdout",
     "output_type": "stream",
     "text": [
      "Hello World\n"
     ]
    }
   ],
   "source": [
    "def main(argv):\n",
    "    \"\"\"\n",
    "    main is totally arbitrary function name \n",
    "    but is traditional usually you parse ARGS here and decide what to run.\n",
    "    BTW this is a docstring, its how you document a python class/function/module.\n",
    "    DocStrings are available at runtime by running `help(obj)`\n",
    "    \"\"\"\n",
    "    print(\" \".join(argv))\n",
    "\n",
    "# __name__ is the name of the module or '__main__' inside the python file you're running\n",
    "# This if statement is incredibly common because it lets you run main function only when the file is run\n",
    "# not when the script is imported and used as a library\n",
    "# You can even import and call main from another script(especially if you pass argv list like this,\n",
    "# although I wouldn't recommend it in most cases\n",
    "if __name__ == '__main__':\n",
    "#     main(sys.argv)\n",
    "    main([\"Hello\", \"World\"])\n"
   ]
  },
  {
   "cell_type": "code",
   "execution_count": 31,
   "metadata": {},
   "outputs": [],
   "source": [
    "# in IPython but not  python you can use ? and ?? to get help or even more like source code\n",
    "# main?\n",
    "main??"
   ]
  },
  {
   "cell_type": "markdown",
   "metadata": {},
   "source": [
    "# imports/modules\n",
    "\n",
    "A module like everything in python is an object  \n",
    "A module is usually a python file or a folder with `__init__.py` (which gets imported and then imports/re-exports other files in module).  \n",
    "A module can be multiple levels (ex sys.path) where much of the time higher levels will be a dir, and last level will be a dir or a file.  \n",
    "\n",
    "On import a module is looked up in `sys.modules` cache dictionary, if it isn't there  \n",
    "it looks through `sys.path` folder list and current dir for a file or folder(you can also have modules as zipfiles, although thats less common).  \n",
    "\n",
    "You can manipulate (probably mostly add stuff) to `sys.path` list to import stuff from particular folders.\n",
    "\n",
    "Then if it's not there it runs it and adds it to dictionary, then returns it\n",
    "\n",
    "# Import time and compile time\n",
    "\n",
    "Python's import is a bit like compile time.\n",
    "Instead of at packaging time it happens at import time which is **mostly** at the start of the scripts runtime\n",
    "(you usually put most imports at the top but can also put them anywhere in a function/method/ect that doesn't get\n",
    "imported till you call it).\n",
    "\n",
    "Circular imports can be a problem if you try \n",
    "\n"
   ]
  },
  {
   "cell_type": "code",
   "execution_count": 3,
   "metadata": {},
   "outputs": [
    {
     "name": "stdout",
     "output_type": "stream",
     "text": [
      "the path to lookup new path sys.path: ['C:\\\\Python36\\\\python36.zip', 'C:\\\\Python36\\\\DLLs', 'C:\\\\Python36\\\\lib', 'C:\\\\Python36', 'C:\\\\Users\\\\roma\\\\AppData\\\\Roaming\\\\Python\\\\Python36\\\\site-packages', 'C:\\\\Python36\\\\lib\\\\site-packages', 'C:\\\\Python36\\\\lib\\\\site-packages\\\\IPython\\\\extensions', 'C:\\\\Users\\\\roma\\\\.ipython', 'C:\\\\Users\\\\roma\\\\Computer\\\\ProgrammingAttempts\\\\python\\\\bob']\n",
      "list everything in os.path: ['__all__', '__builtins__', '__cached__', '__doc__', '__file__', '__loader__', '__name__', '__package__', '__spec__', '_get_bothseps', '_getfinalpathname', '_getfullpathname', '_getvolumepathname', 'abspath', 'altsep', 'basename', 'commonpath', 'commonprefix', 'curdir', 'defpath', 'devnull', 'dirname', 'exists', 'expanduser', 'expandvars', 'extsep', 'genericpath', 'getatime', 'getctime', 'getmtime', 'getsize', 'isabs', 'isdir', 'isfile', 'islink', 'ismount', 'join', 'lexists', 'normcase', 'normpath', 'os', 'pardir', 'pathsep', 'realpath', 'relpath', 'samefile', 'sameopenfile', 'samestat', 'sep', 'split', 'splitdrive', 'splitext', 'splitunc', 'stat', 'supports_unicode_filenames', 'sys']\n"
     ]
    },
    {
     "data": {
      "text/plain": [
       "[('_locale', <module '_locale' (built-in)>),\n",
       " ('encodings.cp1252',\n",
       "  <module 'encodings.cp1252' from 'C:\\\\Python36\\\\lib\\\\encodings\\\\cp1252.py'>),\n",
       " ('site', <module 'site' from 'C:\\\\Python36\\\\lib\\\\site.py'>),\n",
       " ('os', <module 'os' from 'C:\\\\Python36\\\\lib\\\\os.py'>),\n",
       " ('errno', <module 'errno' (built-in)>),\n",
       " ('stat', <module 'stat' from 'C:\\\\Python36\\\\lib\\\\stat.py'>),\n",
       " ('_stat', <module '_stat' (built-in)>),\n",
       " ('ntpath', <module 'ntpath' from 'C:\\\\Python36\\\\lib\\\\ntpath.py'>),\n",
       " ('genericpath',\n",
       "  <module 'genericpath' from 'C:\\\\Python36\\\\lib\\\\genericpath.py'>),\n",
       " ('os.path', <module 'ntpath' from 'C:\\\\Python36\\\\lib\\\\ntpath.py'>)]"
      ]
     },
     "execution_count": 3,
     "metadata": {},
     "output_type": "execute_result"
    }
   ],
   "source": [
    "import os, sys # import multiple modules\n",
    "from os import path # import only part of someting\n",
    "import xml.etree.ElementTree as ET  # change name of import\n",
    "from json import * # star imports everything, or at least everything listed in `__all__` variable of module from file/or folders __init__.py file\n",
    "\n",
    "\n",
    "from pathlib import Path\n",
    "# _dir_path = Path(__file__).resolve().parent\n",
    "_dir_path = Path(os.getcwd()).resolve() # in a real script it would use __file__ but ipython doesn't define it\n",
    "sys.path.append(str(_dir_path.parent / 'bob')) # now we can import from sibling directory 'bob' of current script's dir\n",
    "print(f'the path to lookup new path sys.path: {sys.path}')\n",
    "print(f'list everything in os.path: {dir(path)}')\n",
    "list(sys.modules.items())[25:35] # only list some of the modules cause there are too many\n"
   ]
  },
  {
   "cell_type": "markdown",
   "metadata": {},
   "source": [
    "# Arguments\n",
    "\n",
    "### Regular arguments\n",
    "\n",
    "In python regular aguments can be passed by position or keyword. \n",
    "Arguments passed by keyword can be in any order.\n",
    "\n",
    "Arguments after a `*,` or `*args,` are keyword only args\n",
    "\n",
    "\n",
    "### *args and **kwargs\n",
    "\n",
    "`*args` in an function's argument list becomes `args` a regular tuple of positional arguments not captured by explicit arguments. It's a type of varargs(variable number of arguments). If included function doesn't check for # of positional arguments since it can be any number.\n",
    "`**kwargs` becomes `kwargs` an dictionary(with the same key order) of leftover arguments passed by keyword.\n",
    "The names `args`, and `kwargs` like `self` is by convention and can be anything but should be used to match what everyone else is doing.\n",
    "\n",
    "Then later in the function body `*args` and `**kwargs` or `*(x,y,x)`/`*somelist` and `**some_other_dictionary` is used to blow up/pass arugments to a function as variable number of args or variable number of keyword args respectively"
   ]
  },
  {
   "cell_type": "code",
   "execution_count": 6,
   "metadata": {},
   "outputs": [
    {
     "name": "stdout",
     "output_type": "stream",
     "text": [
      "a: 1 b:2 c:3 d:4\n",
      "args: (5, 6) kwargs:{'q': 9, 'bb': 22}\n",
      "keyword only argument 'arg' can't be supplied by position\n",
      "arg: ARG\n",
      "scratch the dog\n",
      "scratch the cat\n"
     ]
    }
   ],
   "source": [
    "def a(a, b, c, *args, d, **kwargs):\n",
    "    print(f\"a: {a} b:{b} c:{c} d:{d}\")\n",
    "    print(f\"args: {args} kwargs:{kwargs}\")\n",
    "    \n",
    "def b(*, arg):\n",
    "    print(f\"arg: {arg}\")\n",
    "    \n",
    "def scratch_pet_belly(pet=\"dog\"):\n",
    "    print(f\"scratch the {pet}\")\n",
    "\n",
    "a(1, 2, 3, 5, 6, d=4, q=9,bb=22)\n",
    "try:\n",
    "    b(arg='ARG')\n",
    "except TypeError:\n",
    "    print(f\"keyword only argument 'arg' can't be supplied by position\")\n",
    "\n",
    "b(arg='ARG')\n",
    "scratch_pet_belly()\n",
    "scratch_pet_belly(\"cat\")\n"
   ]
  },
  {
   "cell_type": "code",
   "execution_count": 4,
   "metadata": {},
   "outputs": [
    {
     "name": "stdout",
     "output_type": "stream",
     "text": [
      "[0.9746306888639302]\n",
      "bad 2nd\n",
      "[0.9746306888639302, 0.8207895601386744]\n",
      "bad 3rd\n",
      "[0.9746306888639302, 0.8207895601386744, 0.4244847507563291]\n",
      "good 1st\n",
      "[0.1264921277804465]\n",
      "good 2nd\n",
      "[0.37879255478159934]\n",
      "good 3rd\n",
      "[0.15833192232290383]\n"
     ]
    }
   ],
   "source": [
    "'''Default arguments\n",
    "You can't have default arguments before non default arguments\n",
    "You shouldn't have mutable default arguments like lists because default arguments persist across function calls\n",
    "'''\n",
    "import random\n",
    " \n",
    "def bad_get_some_numbers(num_of_random_numbers, extra_numbers=[]):\n",
    "    for i in range(num_of_random_numbers):\n",
    "        extra_numbers.append(random.random())\n",
    "    return extra_numbers\n",
    "\n",
    "def good_get_some_numbers(num_of_random_numbers, extra_numbers=None):\n",
    "    '''A common pattern for mutable lists is to initalize to None and set to empty list in the function'''\n",
    "    if not extra_numbers:\n",
    "        extra_numbers = []\n",
    "    for i in range(num_of_random_numbers):\n",
    "        extra_numbers.append(random.random())\n",
    "    return extra_numbers\n",
    "        \n",
    "print(bad_get_some_numbers(1))\n",
    "print(\"bad 2nd\")\n",
    "print(bad_get_some_numbers(1))\n",
    "print(\"bad 3rd\")\n",
    "print(bad_get_some_numbers(1))\n",
    "\n",
    "print(\"good 1st\")\n",
    "print(good_get_some_numbers(1))\n",
    "print(\"good 2nd\")\n",
    "print(good_get_some_numbers(1))\n",
    "print(\"good 3rd\")\n",
    "print(good_get_some_numbers(1))"
   ]
  },
  {
   "cell_type": "markdown",
   "metadata": {},
   "source": [
    "### Passing along arguments\n",
    "\n",
    "Python lets you easily pass along all arguments regardless of names/numbers of arguments using `*args` and `**kwargs`.\n",
    "\n",
    "This is extremly useful for some common types of abstraction in python"
   ]
  },
  {
   "cell_type": "code",
   "execution_count": 10,
   "metadata": {},
   "outputs": [
    {
     "name": "stdout",
     "output_type": "stream",
     "text": [
      "calling max\n"
     ]
    },
    {
     "data": {
      "text/plain": [
       "9"
      ]
     },
     "execution_count": 10,
     "metadata": {},
     "output_type": "execute_result"
    }
   ],
   "source": [
    "def run_f(f, *args, **kwargs):\n",
    "    print(f'calling {f.__name__}')\n",
    "    return f(*args, **kwargs)\n",
    "    \n",
    "run_f(max, 1,2,3,4,6,9)"
   ]
  },
  {
   "cell_type": "markdown",
   "metadata": {},
   "source": [
    "# Higher order functions\n",
    "\n",
    "As shown in python functions are just objects that can be passed along as regular argumets,\n",
    "stored as variables, stored in object fields and called.\n",
    "\n",
    "Additionally python lets you define `__call__` methods on an object which will be called if you use an object like a function by saying `obj(arg1, arg2)`\n",
    "\n",
    "Like many languages python has lambdas. \n",
    "\n",
    "Unfortunatly do to being unable to think of a good way to integrate them with python's whitespace based syntax they're crippled and restricted to an expression (ie no statements)\n",
    "\n",
    "Python does have strong support for putting functions in functions in functions and so on which are created on the fly (when surrounding function is called including variables it acts as a closure over) and can be returned or stored globally.\n",
    "\n",
    "### global and nonlocal scope keywords\n",
    "by default python will get the value global(module global) and non global closed over variables but it wont set them.\n",
    "Instead it will just shadow them locally.\n",
    "To set them you must declare `global glob_variable` or `nonlocal closure_variable` at the top of a function\n",
    "\n",
    "### Map vs Filter vs list comprehensions\n",
    "\n",
    "While python does have map and filter as functions not methods, which work similarly to other languages(map and select from ruby, Where and Select from c#, java filter and map, std::transform and std::copy_if for c++),\n",
    "it tends to prefer list comprehensions because of the lambda restriction.\n",
    "\n",
    "Python also has dict and set comprehensions which act basically like list comprehensions with a slightly different syntax. I tend not to use these cause I find a list comprehension/generator expression fed to set/dict constructor clearer.\n",
    "\n",
    "student_set = {Student(first, last, bday) for (first, last, bday) in student_tuples} # no duplicates in the set\n",
    "student_dict = {first+last: Student(first, last, bday) for (first, last, bday) in student_tuples} #dictionary by name\n",
    "\n"
   ]
  },
  {
   "cell_type": "code",
   "execution_count": 10,
   "metadata": {},
   "outputs": [
    {
     "name": "stdout",
     "output_type": "stream",
     "text": [
      "yo ho ho\n",
      "42\n",
      "calling object a with v\n"
     ]
    },
    {
     "data": {
      "text/plain": [
       "(True, True, True, True, False)"
      ]
     },
     "execution_count": 10,
     "metadata": {},
     "output_type": "execute_result"
    }
   ],
   "source": [
    "def call_f1(f1):\n",
    "    f1()\n",
    "    \n",
    "def make_print_f2(f2):\n",
    "    def p():\n",
    "        print(f2())\n",
    "    return p\n",
    "\n",
    "call_f1(lambda:print(\"yo ho ho\"))\n",
    "call_f1(make_print_f2(lambda : 42))\n",
    "class A:\n",
    "    def __call__(self,v):\n",
    "        print(f'calling object a with {v}')\n",
    "a=A()\n",
    "call_f1(lambda: a('v'))\n",
    "# all functions and methods are callable, Classes are callable(to construct an object)\n",
    "# lists and non functions/objects without __call__ (tp_call in C) are not callable\n",
    "(callable(call_f1), callable(make_print_f2), callable(a), callable(A), callable([]))"
   ]
  },
  {
   "cell_type": "code",
   "execution_count": 13,
   "metadata": {},
   "outputs": [
    {
     "name": "stdout",
     "output_type": "stream",
     "text": [
      "<lambda>() missing 1 required positional argument: 'self'\n",
      "a.c: <function <lambda> at 0x0000027385C69EA0>\n"
     ]
    },
    {
     "data": {
      "text/plain": [
       "'d'"
      ]
     },
     "execution_count": 13,
     "metadata": {},
     "output_type": "execute_result"
    }
   ],
   "source": [
    "# methods are mostly functions taking at least one argument bound to an attribute of an object\n",
    "import types\n",
    "class A:\n",
    "    pass\n",
    "a=A()\n",
    "A.b=lambda self: 'b' # You can simply assign functions to classes  \n",
    "                     # which take at least one argument(explicit this/self) to classes\n",
    "                     # to make a method\n",
    "try:\n",
    "    a.c=lambda self: 'c' #you can assign functions to make instance object methods but it's more difficult\n",
    "    a.c()\n",
    "except Exception as ex:\n",
    "    print(ex)\n",
    "print(f'a.c: {a.c}')\n",
    "a.d=types.MethodType(lambda self: 'd', a)# you need a helper\n",
    "a.d()"
   ]
  },
  {
   "cell_type": "code",
   "execution_count": 6,
   "metadata": {},
   "outputs": [
    {
     "ename": "UnboundLocalError",
     "evalue": "local variable 'global_a' referenced before assignment",
     "output_type": "error",
     "traceback": [
      "\u001b[1;31m---------------------------------------------------------------------------\u001b[0m",
      "\u001b[1;31mUnboundLocalError\u001b[0m                         Traceback (most recent call last)",
      "\u001b[1;32m<ipython-input-6-03cb9611a199>\u001b[0m in \u001b[0;36m<module>\u001b[1;34m\u001b[0m\n\u001b[0;32m     15\u001b[0m        \u001b[1;32mpass\u001b[0m\u001b[1;33m\u001b[0m\u001b[0m\n\u001b[0;32m     16\u001b[0m     \u001b[0mb\u001b[0m\u001b[1;33m(\u001b[0m\u001b[1;33m)\u001b[0m\u001b[1;33m\u001b[0m\u001b[0m\n\u001b[1;32m---> 17\u001b[1;33m \u001b[0ma\u001b[0m\u001b[1;33m(\u001b[0m\u001b[1;33m)\u001b[0m\u001b[1;33m\u001b[0m\u001b[0m\n\u001b[0m\u001b[0;32m     18\u001b[0m \u001b[0ma2\u001b[0m\u001b[1;33m(\u001b[0m\u001b[1;33m)\u001b[0m\u001b[1;33m\u001b[0m\u001b[0m\n\u001b[0;32m     19\u001b[0m \u001b[0ma3\u001b[0m\u001b[1;33m(\u001b[0m\u001b[1;33m)\u001b[0m\u001b[1;33m\u001b[0m\u001b[0m\n",
      "\u001b[1;32m<ipython-input-4-38fef0b71bed>\u001b[0m in \u001b[0;36ma\u001b[1;34m()\u001b[0m\n\u001b[0;32m      2\u001b[0m \u001b[1;33m\u001b[0m\u001b[0m\n\u001b[0;32m      3\u001b[0m \u001b[1;32mdef\u001b[0m \u001b[0ma\u001b[0m\u001b[1;33m(\u001b[0m\u001b[1;33m)\u001b[0m\u001b[1;33m:\u001b[0m\u001b[1;33m\u001b[0m\u001b[0m\n\u001b[1;32m----> 4\u001b[1;33m     \u001b[0mprint\u001b[0m\u001b[1;33m(\u001b[0m\u001b[0mglobal_a\u001b[0m\u001b[1;33m)\u001b[0m\u001b[1;33m\u001b[0m\u001b[0m\n\u001b[0m\u001b[0;32m      5\u001b[0m     \u001b[0mprint\u001b[0m\u001b[1;33m(\u001b[0m\u001b[1;34mf'global_a: {global_a}'\u001b[0m\u001b[1;33m)\u001b[0m\u001b[1;33m\u001b[0m\u001b[0m\n\u001b[0;32m      6\u001b[0m     \u001b[0mglobal_a\u001b[0m \u001b[1;33m=\u001b[0m \u001b[1;34m'a2'\u001b[0m\u001b[1;33m\u001b[0m\u001b[0m\n",
      "\u001b[1;31mUnboundLocalError\u001b[0m: local variable 'global_a' referenced before assignment"
     ]
    }
   ],
   "source": [
    "global_a = 'a1'\n",
    "\n",
    "def a1():\n",
    "    print(f'global_a: {global_a}')\n",
    "def a2():\n",
    "    global_a = 'a2'\n",
    "    print(f'global_a: {global_a}')\n",
    "def a3():\n",
    "    global global_a\n",
    "    print(f'global_a: {global_a}')\n",
    "    global_a = 'a3'\n",
    "    print(f'global_a: {global_a}')\n",
    "\n",
    "    def b():\n",
    "       pass \n",
    "    b()\n",
    "a()\n",
    "a2()\n",
    "a3()"
   ]
  },
  {
   "cell_type": "code",
   "execution_count": 22,
   "metadata": {},
   "outputs": [
    {
     "name": "stdout",
     "output_type": "stream",
     "text": [
      "[-0.1, 1.9, 3.9, 5.9, 7.9]\n"
     ]
    },
    {
     "data": {
      "text/plain": [
       "([-0.1, 1.9, 3.9, 5.9, 7.9],\n",
       " [1, 2, 3, 4, 5, 6, 7, 8, 9],\n",
       " [(1, 'A'),\n",
       "  (1, 'B'),\n",
       "  (1, 'C'),\n",
       "  (3, 'A'),\n",
       "  (3, 'B'),\n",
       "  (3, 'C'),\n",
       "  (5, 'A'),\n",
       "  (5, 'B'),\n",
       "  (5, 'C'),\n",
       "  (7, 'A'),\n",
       "  (7, 'B'),\n",
       "  (7, 'C'),\n",
       "  (9, 'A'),\n",
       "  (9, 'B'),\n",
       "  (9, 'C')])"
      ]
     },
     "execution_count": 22,
     "metadata": {},
     "output_type": "execute_result"
    }
   ],
   "source": [
    "print(list(map(lambda x:x-0.1, filter(lambda x: x%2 == 0, range(10)))))\n",
    "([x-0.1 for x in range(10) if x %2 == 0],             # (evens 0 to 8) -0.1\n",
    " [a for b in [[1,2,3,],[4,5,6], [7,8,9]] for a in b], # nested list comprehension to flatten list\n",
    " [(x,y) for x in range(10) for y in \"ABC\" if x%2==1]  # product of odd integers<10 with A,B,C\n",
    " )"
   ]
  },
  {
   "cell_type": "markdown",
   "metadata": {},
   "source": [
    "# Decorators\n",
    "\n",
    "A decorator is simple a function that wraps another function(or class) plus a bit of syntax sugar\n",
    "```python\n",
    "@time_function\n",
    "def a():\n",
    "  ...\n",
    "```\n",
    "is equivalent to \n",
    "\n",
    "`a=time_function(a)`"
   ]
  },
  {
   "cell_type": "code",
   "execution_count": 46,
   "metadata": {},
   "outputs": [
    {
     "ename": "SyntaxError",
     "evalue": "invalid syntax (<ipython-input-46-2627c306670f>, line 3)",
     "output_type": "error",
     "traceback": [
      "\u001b[1;36m  File \u001b[1;32m\"<ipython-input-46-2627c306670f>\"\u001b[1;36m, line \u001b[1;32m3\u001b[0m\n\u001b[1;33m    @functools.wraps(f):\u001b[0m\n\u001b[1;37m                       ^\u001b[0m\n\u001b[1;31mSyntaxError\u001b[0m\u001b[1;31m:\u001b[0m invalid syntax\n"
     ]
    }
   ],
   "source": [
    "import functools\n",
    "def log_decorator(f):\n",
    "    @functools.wraps(f):\n",
    "    def wrapped_f(*args, **kwargs):\n",
    "        print(f'calling {f.__name__} with args: {args} and kwargs: {kwargs}')\n",
    "        return f(*args, **kwargs)\n",
    "    return wrapped_f\n",
    "\n",
    "def cats():\n",
    "    print('dog')\n",
    "\n",
    "cats() \n",
    "print('='*22)\n",
    "log_decorator(cats)()\n",
    "print('='*22)\n",
    "cats = log_decorator(cats)\n",
    "cats()\n",
    "print('='*22)\n",
    "\n",
    "@log_decorator\n",
    "def cats():\n",
    "    print('dog')\n",
    "cats()"
   ]
  },
  {
   "cell_type": "code",
   "execution_count": 3,
   "metadata": {},
   "outputs": [
    {
     "name": "stdout",
     "output_type": "stream",
     "text": [
      "calling cats_like_to_devide_by_zero\n",
      "dog\n",
      "catching exception type <class 'ZeroDivisionError'> in wrapped function cats_like_to_devide_by_zero\n",
      "calling cats_like_to_devide_by_zero\n",
      "dog\n",
      "catching exception type <class 'ZeroDivisionError'> in wrapped function cats_like_to_devide_by_zero\n"
     ]
    }
   ],
   "source": [
    "# A Decorator with 1 or more arguments is similar but with another layer\n",
    "def make_exception_swallow_but_log_decorator_with_args(catch_exception_type):\n",
    "    def decorator(f):\n",
    "        def wrapped_f(*args, **kwargs):\n",
    "            print(f'calling {f.__name__}')\n",
    "            try:\n",
    "                return f(*args, **kwargs)\n",
    "            except catch_exception_type:\n",
    "                print(f'catching exception type {catch_exception_type} in wrapped function {f.__name__}')\n",
    "        return wrapped_f\n",
    "    return decorator\n",
    "\n",
    "def cats_like_to_devide_by_zero():\n",
    "    print('dog')\n",
    "    1/0\n",
    "\n",
    "cats_like_to_devide_by_zero = make_exception_swallow_but_log_decorator_with_args(ZeroDivisionError)(cats_like_to_devide_by_zero)\n",
    "cats_like_to_devide_by_zero()\n",
    "\n",
    "# equivalent to \n",
    "# `cats_like_to_devide_by_zero = make_decorator_with_args(ZeroDivisionError)(cats_like_to_devide_by_zero)`\n",
    "\n",
    "@make_exception_swallow_but_log_decorator_with_args(ZeroDivisionError)\n",
    "def cats_like_to_devide_by_zero():\n",
    "    print('dog')\n",
    "    1/0\n",
    "cats_like_to_devide_by_zero()"
   ]
  },
  {
   "cell_type": "code",
   "execution_count": 49,
   "metadata": {},
   "outputs": [
    {
     "name": "stdout",
     "output_type": "stream",
     "text": [
      "In C.__init__\n",
      "args: ('q', 5), kwargs:{}\n",
      "thing.thing is thing\n",
      "thing != thingy\n",
      "calling a with args: (<__main__.WithDecoratedMethodsClass object at 0x00000299F338EE10>,) and kwargs: {}\n",
      "self\n",
      "calling method b in class <class '__main__.WithDecoratedMethodsClass'> with args: () and kwargs: {}\n",
      "b\n",
      "calling staticmethod a\n",
      "calling classmethod b of cls: <class '__main__.NonInstanceMethodsClass'>\n"
     ]
    }
   ],
   "source": [
    "import functools\n",
    "class A:\n",
    "    '''Most basic class'''\n",
    "    pass\n",
    "\n",
    "@functools.total_ordering # total_ordering means implementing == and any of <, <=,>,>= will implement the rest\n",
    "class Thing:\n",
    "    def __init__(self, thing):\n",
    "        '''__init__ is the constructor\n",
    "        pythons equivalent of this is passed explicitly, \n",
    "        its always named self but thats a convention not part of the language'''\n",
    "        # set thing field\n",
    "        self.thing = thing\n",
    "    def __eq__(self, other):\n",
    "        '''There are a number of other \n",
    "        double leading/trailing underscore methods in the language for special things\n",
    "        __eq__ implements == operator'''\n",
    "        if type(other) == type(self):\n",
    "            return NotImplemented\n",
    "        return self.thing == other.thing\n",
    "    def __lt__(self, other)\n",
    "        '''implements < operator'''\n",
    "        if type(other) == type(self):\n",
    "            return NotImplemented\n",
    "        return self.thing < other.thing\n",
    "    \n",
    "class B(A):\n",
    "    '''Inherits from A'''\n",
    "    pass\n",
    "class BException(Exception):\n",
    "    '''Basic custom exception, just `raise BException(ctx)`'''\n",
    "    pass\n",
    "class A2:\n",
    "    def __init__(self, *args, **kwargs):\n",
    "        print(f\"args: {args}, kwargs:{kwargs}\")\n",
    "class C(A, A2):\n",
    "    '''python can do multiple inheritence but please dont'''\n",
    "    def __init__(self, *args, **kwargs):\n",
    "        print(\"In C.__init__\")\n",
    "        super().__init__(*args, **kwargs)\n",
    "C('q', 5)        \n",
    "thing = Thing('thing')\n",
    "thingy = Thing('thingy') \n",
    "print(f'thing.thing is {thing.thing}')\n",
    "print(f'thing {\"==\" if thing == thingy else \"!=\"} thingy')\n",
    "\n",
    "def method_log_decorator(f):\n",
    "    @functools.wraps(f)\n",
    "    def wrapped_f(self, *args, **kwargs):\n",
    "        self_type = type(self)\n",
    "        print(f'calling method {f.__name__} in class {self_type} with args: {args} and kwargs: {kwargs}')\n",
    "        return f(self, *args, **kwargs)\n",
    "    return wrapped_f\n",
    "\n",
    "\n",
    "class WithDecoratedMethodsClass:\n",
    "    @log_decorator\n",
    "    def a(self):\n",
    "        print('self')\n",
    "    @method_log_decorator\n",
    "    def b(self):\n",
    "        print('b')\n",
    "        \n",
    "class NonInstanceMethodsClass:\n",
    "    @staticmethod\n",
    "    def a():\n",
    "        print('calling staticmethod a')\n",
    "    @classmethod\n",
    "    def b(cls):\n",
    "        print(f'calling classmethod b of cls: {cls}')\n",
    "@class_decorator_log_tests\n",
    "class TL:\n",
    "    def test_a(self):\n",
    "        pass\n",
    "    def test_b(self):\n",
    "        pass\n",
    "    def c(self):\n",
    "        pass\n",
    "wdm = WithDecoratedMethodsClass()\n",
    "wdm.a()\n",
    "wdm.b()\n",
    "nim = NonInstanceMethodsClass()\n",
    "nim.a()\n",
    "nim.b()"
   ]
  },
  {
   "cell_type": "code",
   "execution_count": 4,
   "metadata": {},
   "outputs": [
    {
     "name": "stdout",
     "output_type": "stream",
     "text": [
      "a\n",
      "test test_a took 0:00:00.000999 to run\n",
      "b\n",
      "test test_b took 0:00:00 to run\n",
      "c\n"
     ]
    }
   ],
   "source": [
    "import datetime\n",
    "def class_decorator_log_tests(cls):\n",
    "    for k,v in vars(cls).items():\n",
    "        if k.startswith('test_') and callable(v):\n",
    "            def make_wrapper(f):\n",
    "                def wrapper(*args, **kwargs):\n",
    "                    start_time = datetime.datetime.now()\n",
    "                    try:\n",
    "                        return f(*args, **kwargs)\n",
    "                    finally:\n",
    "                        end_time = datetime.datetime.now()\n",
    "                        print(f'test {f.__name__} took {end_time-start_time} to run')\n",
    "                return wrapper\n",
    "            setattr(cls, k, make_wrapper(v))\n",
    "    return cls\n",
    "@class_decorator_log_tests\n",
    "class LT:\n",
    "    def test_a(self):\n",
    "        print('a')\n",
    "    def test_b(self):\n",
    "        print('b')\n",
    "    def c(self):\n",
    "        print('c')\n",
    "lt=LT()\n",
    "lt.test_a()\n",
    "lt.test_b()\n",
    "lt.c()"
   ]
  },
  {
   "cell_type": "code",
   "execution_count": 48,
   "metadata": {},
   "outputs": [
    {
     "name": "stdout",
     "output_type": "stream",
     "text": [
      "a is r in staticmethod\n",
      "a is r in classmethod of cls: <class '__main__.P'>\n",
      "a is r in staticmethod\n",
      "a is r in classmethod of cls: <class '__main__.P3'>\n",
      "z: 5\n",
      "p.a: None\n",
      "p.a: 5\n"
     ]
    }
   ],
   "source": [
    "class P:\n",
    "    def __init__(self, z):\n",
    "        self.z = z\n",
    "        self._a = None\n",
    "        \n",
    "    def print_contents(self):\n",
    "        print(f\"z: {self.z}\")\n",
    "        \n",
    "    @property\n",
    "    def a(self):\n",
    "        return self._a\n",
    "    @a.setter\n",
    "    def a(self, value):\n",
    "        self._a = value\n",
    "    @staticmethod\n",
    "    def s(a):\n",
    "        print(f\"a is {a} in staticmethod\")\n",
    "    @classmethod\n",
    "    def c(cls, a):\n",
    "        print(f\"a is {a} in classmethod of cls: {cls}\")\n",
    "class P2:\n",
    "    pass\n",
    "class P3(P, P2):\n",
    "    pass\n",
    "p = P(1)\n",
    "p.s('r')\n",
    "p.c('r')\n",
    "\n",
    "p3 = P3(5)\n",
    "p3.s('r')\n",
    "p3.c('r')\n",
    "p3.print_contents()\n",
    "\n",
    "print(f\"p.a: {p.a}\")\n",
    "p.a = 5\n",
    "print(f\"p.a: {p.a}\")"
   ]
  },
  {
   "cell_type": "code",
   "execution_count": 63,
   "metadata": {},
   "outputs": [
    {
     "name": "stdout",
     "output_type": "stream",
     "text": [
      "TypeError(Can't instantiate abstract class Mamal with abstract methods bark, paw_size)\n"
     ]
    },
    {
     "data": {
      "text/plain": [
       "5"
      ]
     },
     "execution_count": 63,
     "metadata": {},
     "output_type": "execute_result"
    }
   ],
   "source": [
    "# a class is an instance object of a metaclass type, by default the metaclass is `type`\n",
    "# the most common use of metaclasses is the abstract class metaclass\n",
    "# for most other uses you can find a simpler abstraction like class decorators\n",
    "\n",
    "import abc\n",
    "\n",
    "class Pet(metaclass=abc.ABCMeta):\n",
    "    @abc.abstractmethod\n",
    "    def bark(self):\n",
    "        pass\n",
    "    @property\n",
    "    @abc.abstractmethod\n",
    "    def paw_size(self):\n",
    "        pass\n",
    "    @paw_size.setter\n",
    "    @abc.abstractmethod\n",
    "    def paw_size(self, value):\n",
    "        pass\n",
    "    \n",
    "class Mamal(Pet):\n",
    "    pass\n",
    "try:\n",
    "    Mamal()\n",
    "except TypeError as ex:\n",
    "    print(f\"{ex.__class__.__name__}({ex})\")\n",
    "class Dog(Pet):\n",
    "    def __init__(self):\n",
    "        self._paw_size = None\n",
    "    def bark():\n",
    "        print('bark')\n",
    "    @property\n",
    "    def paw_size(self):\n",
    "        if self._paw_size is None:\n",
    "            return 5\n",
    "        else:\n",
    "            return self._paw_size\n",
    "    @paw_size.setter\n",
    "    def paw_size(self, value):\n",
    "        self._paw_size = value\n",
    "Dog().paw_size"
   ]
  },
  {
   "cell_type": "code",
   "execution_count": 11,
   "metadata": {},
   "outputs": [
    {
     "name": "stdout",
     "output_type": "stream",
     "text": [
      "numbers_genrator:<generator object numbers at 0x0000020879C2B308>\n",
      "next(numbers_genrator):0\n",
      "next(numbers_genrator):1\n",
      "next(numbers_genrator):2\n",
      "small_numbers_genrator:<generator object take at 0x0000020879C2B2B0>\n",
      "list(small_numbers_genrator): [0, 1, 2, 3, 4, 5, 6, 7, 8, 9, 10]\n",
      "sum(small_numbers_genrator): 55\n",
      "list(small_numbers_genrator_cubed): []\n",
      "sum(e*3 for e in take(numbers(), 10)): 165\n"
     ]
    }
   ],
   "source": [
    "#Yield and Generators\n",
    "def numbers():\n",
    "    i = 0\n",
    "    while True:\n",
    "        yield i\n",
    "        i+=1\n",
    "        \n",
    "def take(iterable, x):\n",
    "    while x >= 0:\n",
    "        x-=1\n",
    "        yield next(iterable)\n",
    "    \n",
    "numbers_genrator = numbers()        \n",
    "print(f\"numbers_genrator:{numbers_genrator}\")\n",
    "print(f\"next(numbers_genrator):{next(numbers_genrator)}\")\n",
    "print(f\"next(numbers_genrator):{next(numbers_genrator)}\")\n",
    "print(f\"next(numbers_genrator):{next(numbers_genrator)}\")\n",
    "\n",
    "small_numbers_genrator = take(numbers(), 10)\n",
    "print(f\"small_numbers_genrator:{small_numbers_genrator}\")\n",
    "print(f\"list(small_numbers_genrator): {list(small_numbers_genrator)}\")\n",
    "\n",
    "small_numbers_genrator = take(numbers(), 10)\n",
    "print(f\"sum(small_numbers_genrator): {sum(small_numbers_genrator)}\")\n",
    "\n",
    "small_numbers_genrator_cubed = (x*x*x for x in small_numbers_genrator)\n",
    "print(f\"list(small_numbers_genrator_cubed): {list(small_numbers_genrator_cubed)}\")\n",
    "print(f\"sum(e*3 for e in take(numbers(), 10)): {sum(e*3 for e in take(numbers(), 10))}\")"
   ]
  },
  {
   "cell_type": "markdown",
   "metadata": {},
   "source": [
    "# Context Manager\n"
   ]
  },
  {
   "cell_type": "code",
   "execution_count": 37,
   "metadata": {},
   "outputs": [
    {
     "name": "stdout",
     "output_type": "stream",
     "text": [
      "file contains: '{f.read()}'\n",
      "in enter\n",
      "I have FakeResource1\n",
      "in exit\n",
      "fake disposal of FakeResource1\n",
      "I have FakeResource2\n",
      "fake disposal of FakeResource2\n",
      "current dir 'C:\\Users\\roma\\Computer\\ProgrammingAttempts\\python\\python_intro_notes'\n",
      "current dir 'C:\\Users\\roma\\AppData\\Local\\Temp'\n",
      "current dir 'C:\\Users\\roma\\Computer\\ProgrammingAttempts\\python\\python_intro_notes'\n",
      "buf_stdout: \"abc\n",
      "stdout: abc\n",
      "\n",
      "\"\n"
     ]
    }
   ],
   "source": [
    "import os, sys\n",
    "from pathlib import Path\n",
    "from contextlib import contextmanager, closing\n",
    "import io\n",
    "\n",
    "path = Path('scratch.should_be_deleted')\n",
    "try:\n",
    "    path.write_text('some nonsense')\n",
    "    with open(path) as f:\n",
    "        print(\"file contains: '{f.read()}'\")\n",
    "finally:\n",
    "    if path.exists():\n",
    "        path.unlink()\n",
    "\n",
    "class FakeResource1:\n",
    "    def __enter__(self):\n",
    "        print('in enter')\n",
    "    def __exit__(self, type, value, traceback):\n",
    "        print('in exit')\n",
    "        self.close()\n",
    "    def close(self):\n",
    "        print('fake disposal of FakeResource1')\n",
    "    \n",
    "class FakeResource2:\n",
    "    def close(self):\n",
    "        print('fake disposal of FakeResource2')\n",
    "\n",
    "with FakeResource1() as f1:\n",
    "    print('I have FakeResource1')\n",
    "    \n",
    "# Some resources especially older ones implement .close but not enter and exit\n",
    "# in that case\n",
    "with closing(FakeResource2()) as f2:\n",
    "    print('I have FakeResource2')\n",
    "@contextmanager\n",
    "def in_directory_ctx(directory):\n",
    "    old_dir = os.getcwd()\n",
    "    try:\n",
    "        os.chdir(directory)\n",
    "        yield\n",
    "    finally:\n",
    "        os.chdir(old_dir)\n",
    "\n",
    "@contextmanager\n",
    "def temporarily_reassign_stdout_stderr(stdout, stderr):\n",
    "    old_stdout, old_stderr = sys.stdout, sys.stderr\n",
    "    try:\n",
    "        sys.stdout, sys.stderr = stdout, stderr\n",
    "        yield (stdout, stderr)\n",
    "    finally:\n",
    "        sys.stdout, sys.stderr = old_stdout, old_stderr\n",
    "        \n",
    "import tempfile\n",
    "print(f\"current dir '{os.getcwd()}'\")\n",
    "with in_directory_ctx(tempfile.gettempdir()):\n",
    "    print(f\"current dir '{os.getcwd()}'\")\n",
    "print(f\"current dir '{os.getcwd()}'\")\n",
    "\n",
    "buf_stdout = io.StringIO()\n",
    "buf_stderr = io.StringIO()\n",
    "\n",
    "with temporarily_reassign_stdout_stderr(buf_stdout, buf_stderr):\n",
    "    print('abc')\n",
    "    print('def')\n",
    "\n",
    "buf_stdout = io.StringIO()\n",
    "buf_stderr = io.StringIO()\n",
    "with temporarily_reassign_stdout_stderr(buf_stdout, buf_stderr) as (stdout, _):\n",
    "    print('abc')\n",
    "    print(f'stdout: {stdout.getvalue()}')\n",
    "    \n",
    "print(f'buf_stdout: \"{buf_stdout.getvalue()}\"')"
   ]
  },
  {
   "cell_type": "markdown",
   "metadata": {},
   "source": [
    "# dir, getattr, setattr, getitem, setitem\n",
    "\n",
    "dir gets object attribute names  \n",
    "getattr gets object attrubutes dynamically  \n",
    "a.c.d  is shorthand for getattr(getattr(a, 'c'), 'd')\n",
    "setattr sets object attrubutes dynamically  \n",
    "a.c.d = 5  is shorthand for setattr(getattr(a, 'c'), 'd', 5)\n",
    "\n",
    "\n",
    "__getitem__/__setitem__ methods let you get and set like an array/dictionary\n",
    "\n",
    "\n"
   ]
  },
  {
   "cell_type": "code",
   "execution_count": 15,
   "metadata": {},
   "outputs": [
    {
     "data": {
      "text/plain": [
       "['__eq__', '__float__', '__floor__', '__floordiv__', '__format__']"
      ]
     },
     "execution_count": 15,
     "metadata": {},
     "output_type": "execute_result"
    }
   ],
   "source": [
    "dir(1)[10:15]"
   ]
  },
  {
   "cell_type": "code",
   "execution_count": 42,
   "metadata": {},
   "outputs": [
    {
     "data": {
      "text/plain": [
       "[('__abs__', <method-wrapper '__abs__' of int object at 0x000000006F856C20>),\n",
       " ('__add__', <method-wrapper '__add__' of int object at 0x000000006F856C20>),\n",
       " ('__and__', <method-wrapper '__and__' of int object at 0x000000006F856C20>),\n",
       " ('__bool__', <method-wrapper '__bool__' of int object at 0x000000006F856C20>),\n",
       " ('__ceil__', <function int.__ceil__>),\n",
       " ('__class__', int),\n",
       " ('__delattr__',\n",
       "  <method-wrapper '__delattr__' of int object at 0x000000006F856C20>),\n",
       " ('__dir__', <function int.__dir__>),\n",
       " ('__divmod__',\n",
       "  <method-wrapper '__divmod__' of int object at 0x000000006F856C20>),\n",
       " ('__doc__',\n",
       "  \"int(x=0) -> integer\\nint(x, base=10) -> integer\\n\\nConvert a number or string to an integer, or return 0 if no arguments\\nare given.  If x is a number, return x.__int__().  For floating point\\nnumbers, this truncates towards zero.\\n\\nIf x is not a number or if base is given, then x must be a string,\\nbytes, or bytearray instance representing an integer literal in the\\ngiven base.  The literal can be preceded by '+' or '-' and be surrounded\\nby whitespace.  The base defaults to 10.  Valid bases are 0 and 2-36.\\nBase 0 means to interpret the base from the string as an integer literal.\\n>>> int('0b100', base=0)\\n4\"),\n",
       " ('__eq__', <method-wrapper '__eq__' of int object at 0x000000006F856C20>),\n",
       " ('__float__',\n",
       "  <method-wrapper '__float__' of int object at 0x000000006F856C20>),\n",
       " ('__floor__', <function int.__floor__>),\n",
       " ('__floordiv__',\n",
       "  <method-wrapper '__floordiv__' of int object at 0x000000006F856C20>),\n",
       " ('__format__', <function int.__format__>),\n",
       " ('__ge__', <method-wrapper '__ge__' of int object at 0x000000006F856C20>),\n",
       " ('__getattribute__',\n",
       "  <method-wrapper '__getattribute__' of int object at 0x000000006F856C20>),\n",
       " ('__getnewargs__', <function int.__getnewargs__>),\n",
       " ('__gt__', <method-wrapper '__gt__' of int object at 0x000000006F856C20>),\n",
       " ('__hash__', <method-wrapper '__hash__' of int object at 0x000000006F856C20>),\n",
       " ('__index__',\n",
       "  <method-wrapper '__index__' of int object at 0x000000006F856C20>),\n",
       " ('__init__', <method-wrapper '__init__' of int object at 0x000000006F856C20>),\n",
       " ('__init_subclass__', <function int.__init_subclass__>),\n",
       " ('__int__', <method-wrapper '__int__' of int object at 0x000000006F856C20>),\n",
       " ('__invert__',\n",
       "  <method-wrapper '__invert__' of int object at 0x000000006F856C20>),\n",
       " ('__le__', <method-wrapper '__le__' of int object at 0x000000006F856C20>),\n",
       " ('__lshift__',\n",
       "  <method-wrapper '__lshift__' of int object at 0x000000006F856C20>),\n",
       " ('__lt__', <method-wrapper '__lt__' of int object at 0x000000006F856C20>),\n",
       " ('__mod__', <method-wrapper '__mod__' of int object at 0x000000006F856C20>),\n",
       " ('__mul__', <method-wrapper '__mul__' of int object at 0x000000006F856C20>),\n",
       " ('__ne__', <method-wrapper '__ne__' of int object at 0x000000006F856C20>),\n",
       " ('__neg__', <method-wrapper '__neg__' of int object at 0x000000006F856C20>),\n",
       " ('__new__', <function int.__new__(*args, **kwargs)>),\n",
       " ('__or__', <method-wrapper '__or__' of int object at 0x000000006F856C20>),\n",
       " ('__pos__', <method-wrapper '__pos__' of int object at 0x000000006F856C20>),\n",
       " ('__pow__', <method-wrapper '__pow__' of int object at 0x000000006F856C20>),\n",
       " ('__radd__', <method-wrapper '__radd__' of int object at 0x000000006F856C20>),\n",
       " ('__rand__', <method-wrapper '__rand__' of int object at 0x000000006F856C20>),\n",
       " ('__rdivmod__',\n",
       "  <method-wrapper '__rdivmod__' of int object at 0x000000006F856C20>),\n",
       " ('__reduce__', <function int.__reduce__>),\n",
       " ('__reduce_ex__', <function int.__reduce_ex__>),\n",
       " ('__repr__', <method-wrapper '__repr__' of int object at 0x000000006F856C20>),\n",
       " ('__rfloordiv__',\n",
       "  <method-wrapper '__rfloordiv__' of int object at 0x000000006F856C20>),\n",
       " ('__rlshift__',\n",
       "  <method-wrapper '__rlshift__' of int object at 0x000000006F856C20>),\n",
       " ('__rmod__', <method-wrapper '__rmod__' of int object at 0x000000006F856C20>),\n",
       " ('__rmul__', <method-wrapper '__rmul__' of int object at 0x000000006F856C20>),\n",
       " ('__ror__', <method-wrapper '__ror__' of int object at 0x000000006F856C20>),\n",
       " ('__round__', <function int.__round__>),\n",
       " ('__rpow__', <method-wrapper '__rpow__' of int object at 0x000000006F856C20>),\n",
       " ('__rrshift__',\n",
       "  <method-wrapper '__rrshift__' of int object at 0x000000006F856C20>),\n",
       " ('__rshift__',\n",
       "  <method-wrapper '__rshift__' of int object at 0x000000006F856C20>),\n",
       " ('__rsub__', <method-wrapper '__rsub__' of int object at 0x000000006F856C20>),\n",
       " ('__rtruediv__',\n",
       "  <method-wrapper '__rtruediv__' of int object at 0x000000006F856C20>),\n",
       " ('__rxor__', <method-wrapper '__rxor__' of int object at 0x000000006F856C20>),\n",
       " ('__setattr__',\n",
       "  <method-wrapper '__setattr__' of int object at 0x000000006F856C20>),\n",
       " ('__sizeof__', <function int.__sizeof__>),\n",
       " ('__str__', <method-wrapper '__str__' of int object at 0x000000006F856C20>),\n",
       " ('__sub__', <method-wrapper '__sub__' of int object at 0x000000006F856C20>),\n",
       " ('__subclasshook__', <function int.__subclasshook__>),\n",
       " ('__truediv__',\n",
       "  <method-wrapper '__truediv__' of int object at 0x000000006F856C20>),\n",
       " ('__trunc__', <function int.__trunc__>),\n",
       " ('__xor__', <method-wrapper '__xor__' of int object at 0x000000006F856C20>),\n",
       " ('bit_length', <function int.bit_length>),\n",
       " ('conjugate', <function int.conjugate>),\n",
       " ('denominator', 1),\n",
       " ('from_bytes', <function int.from_bytes>),\n",
       " ('imag', 0),\n",
       " ('numerator', 1),\n",
       " ('real', 1),\n",
       " ('to_bytes', <function int.to_bytes>)]"
      ]
     },
     "execution_count": 42,
     "metadata": {},
     "output_type": "execute_result"
    }
   ],
   "source": [
    "[(k,getattr(1, k)) for k in dir(1)]"
   ]
  },
  {
   "cell_type": "code",
   "execution_count": 41,
   "metadata": {},
   "outputs": [
    {
     "name": "stdout",
     "output_type": "stream",
     "text": [
      "v.v:1\n"
     ]
    },
    {
     "ename": "AttributeError",
     "evalue": "'V' object has no attribute 'v'",
     "output_type": "error",
     "traceback": [
      "\u001b[1;31m---------------------------------------------------------------------------\u001b[0m",
      "\u001b[1;31mAttributeError\u001b[0m                            Traceback (most recent call last)",
      "\u001b[1;32m<ipython-input-41-49b72c085f0b>\u001b[0m in \u001b[0;36m<module>\u001b[1;34m\u001b[0m\n\u001b[0;32m      6\u001b[0m \u001b[0msetattr\u001b[0m\u001b[1;33m(\u001b[0m\u001b[0mv\u001b[0m\u001b[1;33m,\u001b[0m \u001b[1;34m'v'\u001b[0m\u001b[1;33m,\u001b[0m \u001b[1;36m2\u001b[0m\u001b[1;33m)\u001b[0m\u001b[1;33m\u001b[0m\u001b[0m\n\u001b[0;32m      7\u001b[0m \u001b[0mdelattr\u001b[0m\u001b[1;33m(\u001b[0m\u001b[0mv\u001b[0m\u001b[1;33m,\u001b[0m\u001b[1;34m'v'\u001b[0m\u001b[1;33m)\u001b[0m\u001b[1;33m\u001b[0m\u001b[0m\n\u001b[1;32m----> 8\u001b[1;33m \u001b[0mprint\u001b[0m\u001b[1;33m(\u001b[0m\u001b[0mgetattr\u001b[0m\u001b[1;33m(\u001b[0m\u001b[0mv\u001b[0m\u001b[1;33m,\u001b[0m \u001b[1;34m'v'\u001b[0m\u001b[1;33m)\u001b[0m\u001b[1;33m)\u001b[0m\u001b[1;33m\u001b[0m\u001b[0m\n\u001b[0m",
      "\u001b[1;31mAttributeError\u001b[0m: 'V' object has no attribute 'v'"
     ]
    }
   ],
   "source": [
    "class V:\n",
    "    def __init__(self, v):\n",
    "        self.v = v\n",
    "v=V(1)\n",
    "print(f'v.v:{getattr(v, \"v\")}')\n",
    "setattr(v, 'v', 2)\n",
    "delattr(v,'v')\n",
    "print(getattr(v, 'v'))"
   ]
  },
  {
   "cell_type": "code",
   "execution_count": null,
   "metadata": {},
   "outputs": [],
   "source": []
  }
 ],
 "metadata": {
  "kernelspec": {
   "display_name": "Python 3",
   "language": "python",
   "name": "python3"
  },
  "language_info": {
   "codemirror_mode": {
    "name": "ipython",
    "version": 3
   },
   "file_extension": ".py",
   "mimetype": "text/x-python",
   "name": "python",
   "nbconvert_exporter": "python",
   "pygments_lexer": "ipython3",
   "version": "3.6.6"
  }
 },
 "nbformat": 4,
 "nbformat_minor": 2
}
